{
 "cells": [
  {
   "cell_type": "markdown",
   "metadata": {},
   "source": []
  },
  {
   "cell_type": "markdown",
   "id": "f1cabd3d-4c31-4797-a22d-bf143c04dc6e",
   "metadata": {},
   "source": [
    "# Lab6 exercises 1\n"
   ]
  },
  {
   "cell_type": "markdown",
   "id": "15831486-839d-4243-8d5d-ff05f0a37f3e",
   "metadata": {},
   "source": [
    "#### Exericse 2.1.1\n",
    "The Wine dataset is a famous dataset available on the UCI ML repository. The data is the result of a chemical analysis of wines grown in the same region in Italy, but derived from three different cultivars. The analysis determined the quantities of 13 constituents found in each of the three types of wines. From these 13 constituents (features), your goal is to predict the target class (the cultivars).\n",
    "You can either download the dataset from UCI, or you can get it directly from scikit-learn.\n",
    "\n",
    "Load the dataset from sklearn, as described in Subsec. 1.2.1. Then, based on your X and y, answer the following questions:\n",
    "- How many records are available?\n",
    "- Are there missing values?\n",
    "- How many elements does each class contain?"
   ]
  },
  {
   "cell_type": "code",
   "execution_count": 1,
   "id": "c48483e6-cdb6-4da3-88af-bef08203761d",
   "metadata": {},
   "outputs": [
    {
     "data": {
      "text/plain": [
       "((178, 13), (178,))"
      ]
     },
     "execution_count": 1,
     "metadata": {},
     "output_type": "execute_result"
    }
   ],
   "source": [
    "from sklearn.datasets import load_wine\n",
    "\n",
    "dataset = load_wine()\n",
    "X = dataset[\"data\"]\n",
    "y = dataset[\"target\"]\n",
    "feature_names = dataset[\"feature_names\"]\n",
    "target_names = dataset[\"target_names\"]\n",
    "\n",
    "X.shape, y.shape  # 178 samples, 13 features"
   ]
  },
  {
   "cell_type": "code",
   "execution_count": 2,
   "metadata": {},
   "outputs": [
    {
     "data": {
      "text/plain": [
       "array([], dtype=float64)"
      ]
     },
     "execution_count": 2,
     "metadata": {},
     "output_type": "execute_result"
    }
   ],
   "source": [
    "import numpy as np\n",
    "X[np.isnan(X)]  # no missing values"
   ]
  },
  {
   "cell_type": "code",
   "execution_count": 3,
   "metadata": {},
   "outputs": [
    {
     "data": {
      "text/plain": [
       "Counter({1: 71, 0: 59, 2: 48})"
      ]
     },
     "execution_count": 3,
     "metadata": {},
     "output_type": "execute_result"
    }
   ],
   "source": [
    "from collections import Counter\n",
    "Counter(y)  # 3 classes, 59, 71, 48 samples"
   ]
  },
  {
   "cell_type": "markdown",
   "metadata": {},
   "source": [
    "#### Exericse 1.2.2\n",
    "Create a DecisionTreeClassifier object with the default configuration (i.e. without passing any parameters to the constructor). Train the classifier using your X and y."
   ]
  },
  {
   "cell_type": "code",
   "execution_count": 4,
   "metadata": {},
   "outputs": [
    {
     "data": {
      "text/html": [
       "<style>#sk-container-id-1 {color: black;}#sk-container-id-1 pre{padding: 0;}#sk-container-id-1 div.sk-toggleable {background-color: white;}#sk-container-id-1 label.sk-toggleable__label {cursor: pointer;display: block;width: 100%;margin-bottom: 0;padding: 0.3em;box-sizing: border-box;text-align: center;}#sk-container-id-1 label.sk-toggleable__label-arrow:before {content: \"▸\";float: left;margin-right: 0.25em;color: #696969;}#sk-container-id-1 label.sk-toggleable__label-arrow:hover:before {color: black;}#sk-container-id-1 div.sk-estimator:hover label.sk-toggleable__label-arrow:before {color: black;}#sk-container-id-1 div.sk-toggleable__content {max-height: 0;max-width: 0;overflow: hidden;text-align: left;background-color: #f0f8ff;}#sk-container-id-1 div.sk-toggleable__content pre {margin: 0.2em;color: black;border-radius: 0.25em;background-color: #f0f8ff;}#sk-container-id-1 input.sk-toggleable__control:checked~div.sk-toggleable__content {max-height: 200px;max-width: 100%;overflow: auto;}#sk-container-id-1 input.sk-toggleable__control:checked~label.sk-toggleable__label-arrow:before {content: \"▾\";}#sk-container-id-1 div.sk-estimator input.sk-toggleable__control:checked~label.sk-toggleable__label {background-color: #d4ebff;}#sk-container-id-1 div.sk-label input.sk-toggleable__control:checked~label.sk-toggleable__label {background-color: #d4ebff;}#sk-container-id-1 input.sk-hidden--visually {border: 0;clip: rect(1px 1px 1px 1px);clip: rect(1px, 1px, 1px, 1px);height: 1px;margin: -1px;overflow: hidden;padding: 0;position: absolute;width: 1px;}#sk-container-id-1 div.sk-estimator {font-family: monospace;background-color: #f0f8ff;border: 1px dotted black;border-radius: 0.25em;box-sizing: border-box;margin-bottom: 0.5em;}#sk-container-id-1 div.sk-estimator:hover {background-color: #d4ebff;}#sk-container-id-1 div.sk-parallel-item::after {content: \"\";width: 100%;border-bottom: 1px solid gray;flex-grow: 1;}#sk-container-id-1 div.sk-label:hover label.sk-toggleable__label {background-color: #d4ebff;}#sk-container-id-1 div.sk-serial::before {content: \"\";position: absolute;border-left: 1px solid gray;box-sizing: border-box;top: 0;bottom: 0;left: 50%;z-index: 0;}#sk-container-id-1 div.sk-serial {display: flex;flex-direction: column;align-items: center;background-color: white;padding-right: 0.2em;padding-left: 0.2em;position: relative;}#sk-container-id-1 div.sk-item {position: relative;z-index: 1;}#sk-container-id-1 div.sk-parallel {display: flex;align-items: stretch;justify-content: center;background-color: white;position: relative;}#sk-container-id-1 div.sk-item::before, #sk-container-id-1 div.sk-parallel-item::before {content: \"\";position: absolute;border-left: 1px solid gray;box-sizing: border-box;top: 0;bottom: 0;left: 50%;z-index: -1;}#sk-container-id-1 div.sk-parallel-item {display: flex;flex-direction: column;z-index: 1;position: relative;background-color: white;}#sk-container-id-1 div.sk-parallel-item:first-child::after {align-self: flex-end;width: 50%;}#sk-container-id-1 div.sk-parallel-item:last-child::after {align-self: flex-start;width: 50%;}#sk-container-id-1 div.sk-parallel-item:only-child::after {width: 0;}#sk-container-id-1 div.sk-dashed-wrapped {border: 1px dashed gray;margin: 0 0.4em 0.5em 0.4em;box-sizing: border-box;padding-bottom: 0.4em;background-color: white;}#sk-container-id-1 div.sk-label label {font-family: monospace;font-weight: bold;display: inline-block;line-height: 1.2em;}#sk-container-id-1 div.sk-label-container {text-align: center;}#sk-container-id-1 div.sk-container {/* jupyter's `normalize.less` sets `[hidden] { display: none; }` but bootstrap.min.css set `[hidden] { display: none !important; }` so we also need the `!important` here to be able to override the default hidden behavior on the sphinx rendered scikit-learn.org. See: https://github.com/scikit-learn/scikit-learn/issues/21755 */display: inline-block !important;position: relative;}#sk-container-id-1 div.sk-text-repr-fallback {display: none;}</style><div id=\"sk-container-id-1\" class=\"sk-top-container\"><div class=\"sk-text-repr-fallback\"><pre>DecisionTreeClassifier()</pre><b>In a Jupyter environment, please rerun this cell to show the HTML representation or trust the notebook. <br />On GitHub, the HTML representation is unable to render, please try loading this page with nbviewer.org.</b></div><div class=\"sk-container\" hidden><div class=\"sk-item\"><div class=\"sk-estimator sk-toggleable\"><input class=\"sk-toggleable__control sk-hidden--visually\" id=\"sk-estimator-id-1\" type=\"checkbox\" checked><label for=\"sk-estimator-id-1\" class=\"sk-toggleable__label sk-toggleable__label-arrow\">DecisionTreeClassifier</label><div class=\"sk-toggleable__content\"><pre>DecisionTreeClassifier()</pre></div></div></div></div></div>"
      ],
      "text/plain": [
       "DecisionTreeClassifier()"
      ]
     },
     "execution_count": 4,
     "metadata": {},
     "output_type": "execute_result"
    }
   ],
   "source": [
    "from sklearn.tree import DecisionTreeClassifier\n",
    "\n",
    "clf = DecisionTreeClassifier()\n",
    "clf.fit(X, y)"
   ]
  },
  {
   "cell_type": "markdown",
   "metadata": {},
   "source": [
    "#### Exericse 1.2.3\n",
    "Now that you have created a tree, you can visualize it. Sklearn offers two functions to visualize decision trees. The first one, plot_tree(), plots the tree in a matplotlib-based, interactive window. An alternative way is using export_graphviz(). This function exports the tree as a DOT file. DOT is a language for describing graph (and, as a consequence, trees). From the DOT code, you can generate the resulting visual representation either using specific Python libraries, or by using any online tools (such as Webgraphviz). We recommend using the latter approach, where you paste the string returned by export_graphviz (which is the DOT file) directly into Webgraphviz."
   ]
  },
  {
   "cell_type": "code",
   "execution_count": 5,
   "metadata": {},
   "outputs": [
    {
     "data": {
      "text/plain": [
       "[Text(0.5657894736842105, 0.9166666666666666, 'proline <= 755.0\\ngini = 0.658\\nsamples = 178\\nvalue = [59, 71, 48]\\nclass = class_1'),\n",
       " Text(0.34210526315789475, 0.75, 'od280/od315_of_diluted_wines <= 2.115\\ngini = 0.492\\nsamples = 111\\nvalue = [2, 67, 42]\\nclass = class_1'),\n",
       " Text(0.21052631578947367, 0.5833333333333334, 'hue <= 0.935\\ngini = 0.227\\nsamples = 46\\nvalue = [0, 6, 40]\\nclass = class_2'),\n",
       " Text(0.10526315789473684, 0.4166666666666667, 'flavanoids <= 1.58\\ngini = 0.049\\nsamples = 40\\nvalue = [0, 1, 39]\\nclass = class_2'),\n",
       " Text(0.05263157894736842, 0.25, 'gini = 0.0\\nsamples = 39\\nvalue = [0, 0, 39]\\nclass = class_2'),\n",
       " Text(0.15789473684210525, 0.25, 'gini = 0.0\\nsamples = 1\\nvalue = [0, 1, 0]\\nclass = class_1'),\n",
       " Text(0.3157894736842105, 0.4166666666666667, 'ash <= 2.45\\ngini = 0.278\\nsamples = 6\\nvalue = [0, 5, 1]\\nclass = class_1'),\n",
       " Text(0.2631578947368421, 0.25, 'gini = 0.0\\nsamples = 5\\nvalue = [0, 5, 0]\\nclass = class_1'),\n",
       " Text(0.3684210526315789, 0.25, 'gini = 0.0\\nsamples = 1\\nvalue = [0, 0, 1]\\nclass = class_2'),\n",
       " Text(0.47368421052631576, 0.5833333333333334, 'flavanoids <= 0.795\\ngini = 0.117\\nsamples = 65\\nvalue = [2, 61, 2]\\nclass = class_1'),\n",
       " Text(0.42105263157894735, 0.4166666666666667, 'gini = 0.0\\nsamples = 2\\nvalue = [0, 0, 2]\\nclass = class_2'),\n",
       " Text(0.5263157894736842, 0.4166666666666667, 'alcohol <= 13.175\\ngini = 0.061\\nsamples = 63\\nvalue = [2, 61, 0]\\nclass = class_1'),\n",
       " Text(0.47368421052631576, 0.25, 'gini = 0.0\\nsamples = 58\\nvalue = [0, 58, 0]\\nclass = class_1'),\n",
       " Text(0.5789473684210527, 0.25, 'alcohol <= 13.365\\ngini = 0.48\\nsamples = 5\\nvalue = [2, 3, 0]\\nclass = class_1'),\n",
       " Text(0.5263157894736842, 0.08333333333333333, 'gini = 0.0\\nsamples = 2\\nvalue = [2, 0, 0]\\nclass = class_0'),\n",
       " Text(0.631578947368421, 0.08333333333333333, 'gini = 0.0\\nsamples = 3\\nvalue = [0, 3, 0]\\nclass = class_1'),\n",
       " Text(0.7894736842105263, 0.75, 'flavanoids <= 2.165\\ngini = 0.265\\nsamples = 67\\nvalue = [57, 4, 6]\\nclass = class_0'),\n",
       " Text(0.6842105263157895, 0.5833333333333334, 'flavanoids <= 0.9\\ngini = 0.375\\nsamples = 8\\nvalue = [0, 2, 6]\\nclass = class_2'),\n",
       " Text(0.631578947368421, 0.4166666666666667, 'gini = 0.0\\nsamples = 6\\nvalue = [0, 0, 6]\\nclass = class_2'),\n",
       " Text(0.7368421052631579, 0.4166666666666667, 'gini = 0.0\\nsamples = 2\\nvalue = [0, 2, 0]\\nclass = class_1'),\n",
       " Text(0.8947368421052632, 0.5833333333333334, 'color_intensity <= 3.435\\ngini = 0.065\\nsamples = 59\\nvalue = [57, 2, 0]\\nclass = class_0'),\n",
       " Text(0.8421052631578947, 0.4166666666666667, 'gini = 0.0\\nsamples = 2\\nvalue = [0, 2, 0]\\nclass = class_1'),\n",
       " Text(0.9473684210526315, 0.4166666666666667, 'gini = 0.0\\nsamples = 57\\nvalue = [57, 0, 0]\\nclass = class_0')]"
      ]
     },
     "execution_count": 5,
     "metadata": {},
     "output_type": "execute_result"
    },
    {
     "data": {
      "image/png": "[encoded data removed]",
      "text/plain": [
       "<Figure size 640x480 with 1 Axes>"
      ]
     },
     "metadata": {},
     "output_type": "display_data"
    }
   ],
   "source": [
    "from sklearn.tree import plot_tree\n",
    "\n",
    "plot_tree(clf, feature_names=feature_names, class_names=target_names, filled=True)"
   ]
  },
  {
   "cell_type": "code",
   "execution_count": 6,
   "metadata": {},
   "outputs": [],
   "source": [
    "# import pydot\n",
    "# from IPython.display import Image\n",
    "# from sklearn.tree import export_graphviz\n",
    "\n",
    "# dot_code = export_graphviz(clf, feature_names=feature_names)\n",
    "# graph = pydot.graph_from_dot_data(dot_code)\n",
    "# Image(graph[0].create_png())"
   ]
  },
  {
   "cell_type": "markdown",
   "metadata": {},
   "source": [
    "#### Exericse 1.2.4\n",
    " Given the dataset X, you can get the predictions of the classifier (one for each entry in X) by calling the predict() of DecisionTreeClassifier. Then, use the accuracy_score() function (which you can import from sklearn.metrics) to compute the accuracy between two lists of values (y_true, the list of “correct” labels, and y_pred, the list of predictions made by the classifier). Since you already have both these lists (y for the ground truth, and the result of the predict() method for the prediction), you can already compute the accuracy of your classifier. What result do you get? Does this result seem particularly high/low? Why do you think that is?"
   ]
  },
  {
   "cell_type": "code",
   "execution_count": 7,
   "metadata": {},
   "outputs": [
    {
     "data": {
      "text/plain": [
       "1.0"
      ]
     },
     "execution_count": 7,
     "metadata": {},
     "output_type": "execute_result"
    }
   ],
   "source": [
    "from sklearn.metrics import accuracy_score\n",
    "\n",
    "accuracy_score(y, clf.predict(X))\n",
    "\n",
    "# 100% accuracy on training data"
   ]
  },
  {
   "cell_type": "markdown",
   "metadata": {},
   "source": [
    "#### Exericse 1.2.5\n",
    "Now, we can split our dataset into a training set and a test set. We will use the training set to train a model, and to assess its performance with the test set. Sklearn offers the train_test_split() function to split any number of arrays (all having the same length on the first dimension) into two sets. You can refer to the official documentation to understand how it can be used. You can use an 80/20 train/testsplit.\n",
    "\n",
    "If used correctly, you will get 4arrays: X_train, X_test, y_train, y_test."
   ]
  },
  {
   "cell_type": "code",
   "execution_count": 8,
   "metadata": {},
   "outputs": [
    {
     "data": {
      "text/plain": [
       "((142, 13), (36, 13), (142,), (36,))"
      ]
     },
     "execution_count": 8,
     "metadata": {},
     "output_type": "execute_result"
    }
   ],
   "source": [
    "from sklearn.model_selection import train_test_split\n",
    "\n",
    "X_train, X_test, y_train, y_test = train_test_split(X, y, test_size=.2, shuffle=True, stratify=y)\n",
    "X_train.shape, X_test.shape, y_train.shape, y_test.shape"
   ]
  },
  {
   "cell_type": "code",
   "execution_count": 9,
   "metadata": {},
   "outputs": [
    {
     "name": "stdout",
     "output_type": "stream",
     "text": [
      "base dataset division\n",
      "0 0.33146067415730335\n",
      "1 0.398876404494382\n",
      "2 0.2696629213483146\n",
      "train division\n",
      "0 0.33098591549295775\n",
      "1 0.4014084507042254\n",
      "2 0.2676056338028169\n",
      "test division\n",
      "0 0.3333333333333333\n",
      "1 0.3888888888888889\n",
      "2 0.2777777777777778\n"
     ]
    }
   ],
   "source": [
    "c = Counter(y)\n",
    "print(\"base dataset division\")\n",
    "for i in [0,1,2]:\n",
    "    print(i, c[i]/len(y))\n",
    "\n",
    "c = Counter(y_train)\n",
    "print(\"train division\")\n",
    "for i in [0,1,2]:\n",
    "    print(i, c[i]/len(y_train))\n",
    "\n",
    "c = Counter(y_test)    \n",
    "print(\"test division\")\n",
    "for i in [0,1,2]:\n",
    "    print(i, c[i]/len(y_test))"
   ]
  },
  {
   "cell_type": "markdown",
   "metadata": {},
   "source": [
    "#### Exericse 1.2.6\n",
    "Now, train a new model using (X_train, y_train). Then, compute the accuracy with (X_test, y_test). How does this value compare to the previously computed one? Is this a more reasonable value? Why? This should give you a good idea as to why training and testing on the same dataset returns meaningless results. You can also compute other metrics (e.g. precision, recall, F1 score) using the respective functions (precision_score, recall_score, f1_score). Note that, since these three metrics are all based on a single class, you can either compute the value for a single class, aggregate the results into a single value, or receive the results for all three classes. Check the average parameter on the documentation to learn more about this. You can also use the classification_report function, which returns various metrics (including the previously mentioned ones) for each of the classes of the problem."
   ]
  },
  {
   "cell_type": "code",
   "execution_count": 10,
   "metadata": {},
   "outputs": [
    {
     "data": {
      "text/plain": [
       "0.9444444444444444"
      ]
     },
     "execution_count": 10,
     "metadata": {},
     "output_type": "execute_result"
    }
   ],
   "source": [
    "clf = DecisionTreeClassifier()\n",
    "clf.fit(X_train, y_train)\n",
    "accuracy_score(y_test, clf.predict(X_test))"
   ]
  },
  {
   "cell_type": "code",
   "execution_count": 11,
   "metadata": {},
   "outputs": [
    {
     "name": "stdout",
     "output_type": "stream",
     "text": [
      "[[12  0  0]\n",
      " [ 0 14  0]\n",
      " [ 0  2  8]]\n",
      "[1.    0.875 1.   ]\n",
      "[1.  1.  0.8]\n",
      "[1.         0.93333333 0.88888889]\n"
     ]
    }
   ],
   "source": [
    "from sklearn.metrics import confusion_matrix, precision_score, recall_score, f1_score\n",
    "\n",
    "y_pred = clf.predict(X_test)\n",
    "print(confusion_matrix(y_test, y_pred))\n",
    "print(precision_score(y_test, y_pred, average=None))\n",
    "print(recall_score(y_test, y_pred, average=None))\n",
    "print(f1_score(y_test, y_pred, average=None))"
   ]
  },
  {
   "cell_type": "markdown",
   "metadata": {},
   "source": [
    "We can also use classification_report() to get all of the previous information into a single report (useful for an overview of the classifier performance).\n"
   ]
  },
  {
   "cell_type": "code",
   "execution_count": 12,
   "metadata": {},
   "outputs": [
    {
     "name": "stdout",
     "output_type": "stream",
     "text": [
      "              precision    recall  f1-score   support\n",
      "\n",
      "           0       1.00      1.00      1.00        12\n",
      "           1       0.88      1.00      0.93        14\n",
      "           2       1.00      0.80      0.89        10\n",
      "\n",
      "    accuracy                           0.94        36\n",
      "   macro avg       0.96      0.93      0.94        36\n",
      "weighted avg       0.95      0.94      0.94        36\n",
      "\n"
     ]
    }
   ],
   "source": [
    "from sklearn.metrics import classification_report\n",
    "print(classification_report(y_test, y_pred))"
   ]
  },
  {
   "cell_type": "markdown",
   "metadata": {},
   "source": [
    "#### Exericse 1.2.7\n",
    "So far, you have only used “default” decision trees (i.e. decision trees using the default configuration). The “default” decision tree might not be the best option in terms of performance to fit our dataset. In this exercise, you will perform a “grid search”: you will define a set of possible configurations and, for each configuration, build a classifier. Then, you will test the performance of each classifier and identify that configuration that produces the best model.\n",
    "\n",
    "On the official documentation for DecisionTreeClassifier you can find a list of all parameters you can modify. Identify some of the parameters that, based on your theoretical knowledge of decision trees, might affect the performance of the tree. For each of these parameters, define a set of possible values (the official documentation provides additional information about the possible values that can be used). \n",
    "\n",
    "For example, we can identify these two parameters:\n",
    "- max_depth, which defines the maximum depth of the decision tree, can be set to None (i.e. unbounded depth), or to values such as 2, 4, 8 (we already know from previous exercises the approximate depth the tree can reach with this dataset)\n",
    "- splitter, which can be set to either best (in which case, for each split, the algorithm will try all possible splits), or random (in this case, the algorithm will try N random splits on various features and select the best one)\n"
   ]
  },
  {
   "cell_type": "code",
   "execution_count": 13,
   "metadata": {},
   "outputs": [
    {
     "name": "stdout",
     "output_type": "stream",
     "text": [
      "{'max_depth': None, 'splitter': 'best'}\n",
      "{'max_depth': None, 'splitter': 'random'}\n",
      "{'max_depth': 2, 'splitter': 'best'}\n",
      "{'max_depth': 2, 'splitter': 'random'}\n",
      "{'max_depth': 4, 'splitter': 'best'}\n",
      "{'max_depth': 4, 'splitter': 'random'}\n",
      "{'max_depth': 8, 'splitter': 'best'}\n",
      "{'max_depth': 8, 'splitter': 'random'}\n"
     ]
    }
   ],
   "source": [
    "from sklearn.model_selection import ParameterGrid\n",
    "params = {\n",
    "    \"max_depth\": [None, 2, 4, 8],\n",
    "    \"splitter\": [\"best\", \"random\"]\n",
    "}\n",
    "for config in ParameterGrid(params):\n",
    "    print(config)"
   ]
  },
  {
   "cell_type": "code",
   "execution_count": 14,
   "metadata": {},
   "outputs": [
    {
     "data": {
      "text/plain": [
       "0.9722222222222222"
      ]
     },
     "execution_count": 14,
     "metadata": {},
     "output_type": "execute_result"
    }
   ],
   "source": [
    "accuracies = []\n",
    "for config in ParameterGrid(params):\n",
    "    clf = DecisionTreeClassifier(**config)\n",
    "    clf.fit(X_train, y_train)\n",
    "    accuracies.append(accuracy_score(y_test, clf.predict(X_test)))\n",
    "max(accuracies)"
   ]
  },
  {
   "cell_type": "markdown",
   "metadata": {},
   "source": [
    "#### 1.2.8\n",
    "In the previous exercise, you searched for the best configuration among a list of possible alternatives. Since we used our test data to select the model, you may be overfitting on the test data (you may have selected the configuration that works best for the test set, but which may not be as good on new data). Typically, you do not want to use the test set for tuning the model’s hyperparameters, since the test set should only be used as a final evaluation.\n",
    "\n",
    "For this reason, datasets are typically splitted into:\n",
    "- Training set: used to create the model.\n",
    "- Validation set: used to assess how good each configuration of a classifier is.\n",
    "- Test set: used at the end of the hyperparameter tuning, to assess how good our final model is.\n",
    "\n",
    "However, it often happens that only a limited amount of data is available. In these cases, it is wasteful to only use a small fraction of the dataset for the actual training. In these cases, cross-validation can be used to “get rid” of the validation set. You can read more about cross-validation on the course slides. One popular method of is the k-fold cross-validation. In this, the training set is split into k partitions. k − 1 are used for the training, the other one is used validation. This is repeated until all partitions have been used once for validation."
   ]
  },
  {
   "cell_type": "code",
   "execution_count": 15,
   "metadata": {},
   "outputs": [],
   "source": [
    "from sklearn.model_selection import KFold\n",
    "\n",
    "X_train_valid, X_test,\\\n",
    "y_train_valid, y_test = train_test_split(X, y, stratify=y)\n",
    "kf = KFold(5)\n",
    "\n",
    "accuracies = []\n",
    "for config in ParameterGrid(params):\n",
    "    clf_accuracies = []\n",
    "    counts = []\n",
    "    for train_indices, valid_indices in kf.split(X_train_valid):\n",
    "        X_train = X_train_valid[train_indices]\n",
    "        y_train = y_train_valid[train_indices]\n",
    "        X_valid = X_train_valid[valid_indices]\n",
    "        y_valid = y_train_valid[valid_indices]\n",
    "        \n",
    "        # keep track of the number of elements in each split\n",
    "        counts.append(len(train_indices)) \n",
    "        \n",
    "        clf = DecisionTreeClassifier(**config)\n",
    "        clf.fit(X_train, y_train)\n",
    "        acc = accuracy_score(y_valid, clf.predict(X_valid))\n",
    "        clf_accuracies.append(acc)\n",
    "    accuracies.append(np.average(clf_accuracies, weights=counts))"
   ]
  },
  {
   "cell_type": "code",
   "execution_count": 16,
   "metadata": {},
   "outputs": [
    {
     "name": "stdout",
     "output_type": "stream",
     "text": [
      "best config: {'max_depth': None, 'splitter': 'best'}\n"
     ]
    },
    {
     "data": {
      "text/plain": [
       "0.9333333333333333"
      ]
     },
     "execution_count": 16,
     "metadata": {},
     "output_type": "execute_result"
    }
   ],
   "source": [
    "best_config = list(ParameterGrid(params))[np.argmax(accuracies)]\n",
    "print(f\"best config: {best_config}\")\n",
    "clf = DecisionTreeClassifier(**best_config)\n",
    "clf.fit(X_train_valid, y_train_valid)\n",
    "accuracy_score(y_test, clf.predict(X_test))"
   ]
  }
 ],
 "metadata": {
  "kernelspec": {
   "display_name": "venv",
   "language": "python",
   "name": "python3"
  },
  "language_info": {
   "codemirror_mode": {
    "name": "ipython",
    "version": 3
   },
   "file_extension": ".py",
   "mimetype": "text/x-python",
   "name": "python",
   "nbconvert_exporter": "python",
   "pygments_lexer": "ipython3",
   "version": "3.11.6"
  }
 },
 "nbformat": 4,
 "nbformat_minor": 5
}
