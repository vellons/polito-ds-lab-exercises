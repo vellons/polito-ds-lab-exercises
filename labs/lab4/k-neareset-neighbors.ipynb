{
 "cells": [
  {
   "cell_type": "markdown",
   "id": "f1cabd3d-4c31-4797-a22d-bf143c04dc6e",
   "metadata": {},
   "source": [
    "# Lab4 exercises 1"
   ]
  },
  {
   "cell_type": "markdown",
   "id": "f83d7649-ca18-4b56-b875-f662a5250e29",
   "metadata": {},
   "source": [
    "### Intro\n",
    "In this laboratory, you will build your own version of the K-Nearest Neighbors algorithm (a.k.a. KNN) using the NumPy library."
   ]
  },
  {
   "cell_type": "markdown",
   "id": "bf81d43d-3441-4a5b-a2f8-eca69055bc95",
   "metadata": {},
   "source": [
    "#### Preliminary steps"
   ]
  },
  {
   "cell_type": "code",
   "execution_count": 1,
   "id": "eb9020d7-c52a-438e-a436-25e907867142",
   "metadata": {},
   "outputs": [],
   "source": [
    "!test -e iris.csv || wget \"https://archive.ics.uci.edu/ml/machine-learning-databases/iris/iris.data\" -O iris.csv"
   ]
  },
  {
   "cell_type": "code",
   "execution_count": 2,
   "id": "9d19382d-db4e-4730-99f4-21e7be80d77f",
   "metadata": {},
   "outputs": [],
   "source": [
    "!test -e mnist_test.csv || wget \"https://raw.githubusercontent.com/dbdmg/data-science-lab/master/datasets/mnist_test.csv\" -O mnist_test.csv"
   ]
  },
  {
   "cell_type": "markdown",
   "id": "c7f56108-31d8-4203-81d5-a20014724261",
   "metadata": {},
   "source": [
    "#### KNN design and implementation\n",
    "As you might remember from Lab. 1, the Iris dataset collects the measurements of different Iris flowers, and each data point is associated with a Iris species (Setosa, Versicolor, or Virginica). In this exercise, you will implement your own version of the the K-Nearest Neighbors algorithm, and you will use it to assign a Iris species (i.e. a label) to flowers whose species is unknown.\n",
    "The KNN algorithm is straightforward. Suppose that some measurements (i.e. records) and their relative species are known in advance. Then, whenever we want to label a new flower, we look at the K most similar points (a.k.a. neighbors) and assign a label accordingly. The simplest solution is using a majority voting scheme: if the majority of the neighbors votes for a label, we will go for it. This approach is naive only at first sight: the local similarity assumed by KNN happens to be roughly true. Even though this reasoning does not generalize well1, the KNN provides a valid baseline for your tasks."
   ]
  },
  {
   "cell_type": "markdown",
   "id": "15831486-839d-4243-8d5d-ff05f0a37f3e",
   "metadata": {},
   "source": [
    "#### Exericse 1.1.1\n",
    "Load the Iris dataset"
   ]
  },
  {
   "cell_type": "code",
   "execution_count": 3,
   "id": "c48483e6-cdb6-4da3-88af-bef08203761d",
   "metadata": {},
   "outputs": [
    {
     "name": "stdout",
     "output_type": "stream",
     "text": [
      "Loaded 150 rows\n"
     ]
    },
    {
     "data": {
      "text/html": [
       "<div>\n",
       "<style scoped>\n",
       "    .dataframe tbody tr th:only-of-type {\n",
       "        vertical-align: middle;\n",
       "    }\n",
       "\n",
       "    .dataframe tbody tr th {\n",
       "        vertical-align: top;\n",
       "    }\n",
       "\n",
       "    .dataframe thead th {\n",
       "        text-align: right;\n",
       "    }\n",
       "</style>\n",
       "<table border=\"1\" class=\"dataframe\">\n",
       "  <thead>\n",
       "    <tr style=\"text-align: right;\">\n",
       "      <th></th>\n",
       "      <th>0</th>\n",
       "      <th>1</th>\n",
       "      <th>2</th>\n",
       "      <th>3</th>\n",
       "      <th>4</th>\n",
       "    </tr>\n",
       "  </thead>\n",
       "  <tbody>\n",
       "    <tr>\n",
       "      <th>0</th>\n",
       "      <td>5.1</td>\n",
       "      <td>3.5</td>\n",
       "      <td>1.4</td>\n",
       "      <td>0.2</td>\n",
       "      <td>Iris-setosa</td>\n",
       "    </tr>\n",
       "    <tr>\n",
       "      <th>1</th>\n",
       "      <td>4.9</td>\n",
       "      <td>3.0</td>\n",
       "      <td>1.4</td>\n",
       "      <td>0.2</td>\n",
       "      <td>Iris-setosa</td>\n",
       "    </tr>\n",
       "    <tr>\n",
       "      <th>2</th>\n",
       "      <td>4.7</td>\n",
       "      <td>3.2</td>\n",
       "      <td>1.3</td>\n",
       "      <td>0.2</td>\n",
       "      <td>Iris-setosa</td>\n",
       "    </tr>\n",
       "    <tr>\n",
       "      <th>3</th>\n",
       "      <td>4.6</td>\n",
       "      <td>3.1</td>\n",
       "      <td>1.5</td>\n",
       "      <td>0.2</td>\n",
       "      <td>Iris-setosa</td>\n",
       "    </tr>\n",
       "    <tr>\n",
       "      <th>4</th>\n",
       "      <td>5.0</td>\n",
       "      <td>3.6</td>\n",
       "      <td>1.4</td>\n",
       "      <td>0.2</td>\n",
       "      <td>Iris-setosa</td>\n",
       "    </tr>\n",
       "  </tbody>\n",
       "</table>\n",
       "</div>"
      ],
      "text/plain": [
       "     0    1    2    3            4\n",
       "0  5.1  3.5  1.4  0.2  Iris-setosa\n",
       "1  4.9  3.0  1.4  0.2  Iris-setosa\n",
       "2  4.7  3.2  1.3  0.2  Iris-setosa\n",
       "3  4.6  3.1  1.5  0.2  Iris-setosa\n",
       "4  5.0  3.6  1.4  0.2  Iris-setosa"
      ]
     },
     "execution_count": 3,
     "metadata": {},
     "output_type": "execute_result"
    }
   ],
   "source": [
    "import pandas as pd\n",
    "import numpy as np\n",
    "\n",
    "df = pd.read_csv(\"iris.csv\", header=None)\n",
    "print(f\"Loaded {len(df)} rows\")\n",
    "df[:5] # df.values return a numpy array"
   ]
  },
  {
   "cell_type": "markdown",
   "id": "67023f32-70a2-496b-a4f1-573169894066",
   "metadata": {},
   "source": [
    "#### Exercise 1.1.2 and 1.1.3\n",
    "Let’s identify a portion of our data for which we will try to guess the species. Randomly select 20% of the records and store the first four columns (i.e. the features representing each flower) into a two-dimensional numpy array of shape N × C, you can call it X_test.\n",
    "For the same records, store the last column (i.e. the one with the species values) into another array, namely y_test. This is the data that will be used to test the accuracy of your KNN implementation and its correct functioning (i.e. the testing data).\n",
    "\n",
    "Store the remaining 80% of the records in the same way. In this case, use the names X_train and y_train for the arrays. This is the data that your model will use as ground-truth knowledge (i.e. the training data)."
   ]
  },
  {
   "cell_type": "code",
   "execution_count": 4,
   "id": "782e7b7c-46e5-4fd7-9b61-3eb323b5809d",
   "metadata": {},
   "outputs": [
    {
     "data": {
      "text/plain": [
       "((150, 4), (150,))"
      ]
     },
     "execution_count": 4,
     "metadata": {},
     "output_type": "execute_result"
    }
   ],
   "source": [
    "X = df.values[:, :4].astype(float) # all rows (:), columns 0 -> 3 (:4)\n",
    "y = df.values[:, 4] # all rows (:), 4th column (4)\n",
    "X.shape, y.shape"
   ]
  },
  {
   "cell_type": "code",
   "execution_count": 5,
   "id": "962a49b5-6bbe-46db-8e7c-4066e1b7caa6",
   "metadata": {},
   "outputs": [
    {
     "data": {
      "text/plain": [
       "array([ True,  True,  True,  True, False,  True, False, False,  True,\n",
       "        True,  True,  True,  True,  True,  True,  True,  True,  True,\n",
       "        True,  True,  True,  True,  True, False,  True, False,  True,\n",
       "       False,  True,  True,  True,  True, False, False,  True,  True,\n",
       "        True, False,  True,  True,  True,  True,  True,  True,  True,\n",
       "       False,  True,  True, False,  True, False,  True,  True,  True,\n",
       "        True,  True,  True, False,  True, False, False, False, False,\n",
       "       False,  True,  True, False,  True,  True,  True,  True,  True,\n",
       "        True, False,  True,  True,  True,  True,  True,  True,  True,\n",
       "        True,  True,  True,  True,  True,  True, False,  True,  True,\n",
       "        True,  True,  True,  True,  True,  True,  True,  True,  True,\n",
       "        True,  True,  True,  True, False, False,  True,  True,  True,\n",
       "        True,  True,  True,  True,  True,  True,  True,  True, False,\n",
       "        True,  True,  True,  True,  True,  True,  True, False,  True,\n",
       "       False,  True,  True,  True, False,  True,  True,  True,  True,\n",
       "        True,  True,  True, False,  True,  True,  True, False,  True,\n",
       "        True,  True,  True,  True,  True, False])"
      ]
     },
     "execution_count": 5,
     "metadata": {},
     "output_type": "execute_result"
    }
   ],
   "source": [
    "# Create the mask to select only 80% of the dataset\n",
    "mask = np.array([True] * 120 + [False] * 30)\n",
    "np.random.shuffle(mask)\n",
    "mask"
   ]
  },
  {
   "cell_type": "code",
   "execution_count": 6,
   "id": "3401cea3-4a28-4fc2-ab5c-82d4183a67e8",
   "metadata": {},
   "outputs": [
    {
     "data": {
      "text/plain": [
       "((120, 4), (30, 4), (120,), (30,))"
      ]
     },
     "execution_count": 6,
     "metadata": {},
     "output_type": "execute_result"
    }
   ],
   "source": [
    "X_train = X[mask]\n",
    "X_test = X[~mask]\n",
    "\n",
    "y_train = y[mask]\n",
    "y_test = y[~mask]\n",
    "(X_train.shape, X_test.shape, y_train.shape, y_test.shape)"
   ]
  },
  {
   "cell_type": "markdown",
   "id": "2513ea3d-380e-4c6f-aae1-b1a358c566b2",
   "metadata": {},
   "source": [
    "#### Exercise 1.1.4\n",
    "Focus now on the KNN technique. You can find a thorough explanation of the algorithm on the course slides on classification techniques (slides [117,125]).\n",
    "Starting from the next laboratory, you will use the scikit-learn package. Many of its functionalities are exposed via an object-oriented interface. With this paradigm in mind, implement now the KNN algorithm and expose it as a Python class. The bare skeleton of your class should look like this (you are free to add as many methods as you want):"
   ]
  },
  {
   "cell_type": "code",
   "execution_count": 7,
   "id": "9d11e58a-4a3c-4b13-8bb0-cd91c2247bce",
   "metadata": {},
   "outputs": [],
   "source": [
    "# (class after edits)\n",
    "class KNearestNeighbors:\n",
    "    def __init__(self, k, distance_metric=\"euclidean\"):\n",
    "        self.k = k\n",
    "        self.distance_metric = distance_metric\n",
    "    \n",
    "    def fit(self, X_train, y_train):\n",
    "        self.X_train = X_train\n",
    "        self.y_train = y_train\n",
    "    \n",
    "    def predict(self, X_test):\n",
    "        pass"
   ]
  },
  {
   "cell_type": "markdown",
   "id": "73bd08d8-e979-4461-a1c7-cea255cab77d",
   "metadata": {},
   "source": [
    "#### Exercise 1.1.5\n",
    "To identify the K closest points, or neighbors, a notion of distance is required. Your implementation must support three different distance definitions. Given two n-dimensional points p = (p1, p2, . . . , pn) and q = (q1, q2, . . . , qn), the euclidean distance is defined as"
   ]
  },
  {
   "attachments": {
    "064e44de-dc29-47cf-855f-a62ae656a444.png": {
     "image/png": "[encoded data removed]"
    },
    "e0d68aec-a940-4002-8d62-b007fb964cf2.png": {
     "image/png": "[encoded data removed]"
    }
   },
   "cell_type": "markdown",
   "id": "ee1596bc-b144-49be-9c5b-af5d6ebb450f",
   "metadata": {},
   "source": [
    "![image.png](attachment:e0d68aec-a940-4002-8d62-b007fb964cf2.png)\n",
    "![image.png](attachment:064e44de-dc29-47cf-855f-a62ae656a444.png)"
   ]
  },
  {
   "cell_type": "code",
   "execution_count": 8,
   "id": "a64ef6c9-f2ec-4823-b708-cd85f7ddf3fd",
   "metadata": {},
   "outputs": [],
   "source": [
    "class KNearestNeighbors:\n",
    "    def __init__(self, k, distance_metric=\"euclidean\"):\n",
    "        self.k = k\n",
    "        self.distance_metric = distance_metric\n",
    "    \n",
    "    def fit(self, X_train, y_train):\n",
    "        self.X_train = X_train\n",
    "        self.y_train = y_train\n",
    "        \n",
    "        self.X_train_reshaped = np.expand_dims(self.X_train, 1)\n",
    "        self.X_train_norm = ((self.X_train**2).sum(axis=1)**.5).reshape(-1,1)\n",
    "\n",
    "    def _euclidean(self, X_test):\n",
    "        X_diff = self.X_train_reshaped - X_test\n",
    "        dist_matrix = ((X_diff**2).sum(axis=2))**.5\n",
    "        return dist_matrix\n",
    "\n",
    "    def _cosine(self, X_test):\n",
    "        X_test_norm = ((X_test**2).sum(axis=1)**.5)\n",
    "        dot_prods = X_train @ X_test.T \n",
    "        dist_matrix = 1 - abs(dot_prods / self.X_train_norm.reshape(-1,1) / X_test_norm)\n",
    "        return dist_matrix\n",
    "\n",
    "    def _manhattan(self, X_test):\n",
    "        X_diff = self.X_train_reshaped - X_test\n",
    "        dist_matrix = abs(X_diff).sum(axis=2)\n",
    "        return dist_matrix\n",
    "\n",
    "    \n",
    "    def predict(self, X_test):\n",
    "        pass"
   ]
  },
  {
   "cell_type": "markdown",
   "id": "4a905338-7dbc-44cc-82a3-fd517c4e4ba6",
   "metadata": {},
   "source": [
    "#### Exercise 1.1.6\n",
    "Implement the predict method. The function receives as input a numpy array with N rows and C columns, corresponding to N flowers. The method assigns one of the three Iris species to each row using the KNN algorithm, and returns them as a numpy array. For the actual implementation, apply the identify K neighbors using the distance specified by the parameters k and distance passed to the constructor.\n",
    "Then, assign the label using a majority voting scheme"
   ]
  },
  {
   "cell_type": "code",
   "execution_count": 9,
   "id": "f60c9224-53e7-4a29-bb5d-6a9804cee422",
   "metadata": {},
   "outputs": [],
   "source": [
    "from collections import Counter\n",
    "class KNearestNeighbors:\n",
    "    def __init__(self, k, distance_metric=\"euclidean\", weights=\"uniform\"):\n",
    "        self.k = k\n",
    "        self.distance_metric = distance_metric\n",
    "        self.weights = weights\n",
    "    \n",
    "    def fit(self, X_train, y_train):\n",
    "        self.X_train = X_train\n",
    "        self.y_train = y_train\n",
    "        \n",
    "        self.X_train_reshaped = np.expand_dims(self.X_train, 1)\n",
    "        self.X_train_norm = ((self.X_train**2).sum(axis=1)**.5).reshape(-1,1)\n",
    "\n",
    "    def _euclidean(self, X_test):\n",
    "        X_diff = self.X_train_reshaped - X_test\n",
    "        dist_matrix = ((X_diff**2).sum(axis=2))**.5\n",
    "        return dist_matrix\n",
    "\n",
    "    def _cosine(self, X_test):\n",
    "        X_test_norm = ((X_test**2).sum(axis=1)**.5).T\n",
    "        dot_prods = X_train @ X_test.T \n",
    "        dist_matrix = 1 - abs(dot_prods / self.X_train_norm.reshape(-1,1) / X_test_norm)\n",
    "        return dist_matrix\n",
    "\n",
    "    def _manhattan(self, X_test):\n",
    "        X_diff = self.X_train_reshaped - X_test\n",
    "        dist_matrix = abs(X_diff).sum(axis=2)\n",
    "        return dist_matrix\n",
    "\n",
    "    def _majority_voting(self, votes):\n",
    "        count = Counter(votes)\n",
    "        return count.most_common(1)[0][0] # most_common(n) returns a list with the n most recurring votes (n=1 -> top vote)\n",
    "\n",
    "    def _weighted_majority_voting(self, votes, weights):\n",
    "        # we now compute `count` as a sum of weights\n",
    "        # (no longer through Counter -- which effectively\n",
    "        # weighted all votes as \"1\")\n",
    "        count = defaultdict(lambda: 0)\n",
    "        for vote, weight in zip(votes, weights):\n",
    "            count[vote] += weight\n",
    "        return max(count.items(), key=lambda x: x[1])[0] # return the max value (use a custom key extractor)\n",
    "    \n",
    "    def predict(self, X_test):\n",
    "        if self.distance_metric == \"euclidean\":\n",
    "            dist_matrix = self._euclidean(X_test)\n",
    "        elif self.distance_metric == \"cosine\":\n",
    "            dist_matrix = self._cosine(X_test)\n",
    "        elif self.distance_metric == \"manhattan\":\n",
    "            dist_matrix = self._manhattan(X_test)\n",
    "        else:\n",
    "            raise Exception(\"Unknown distance metric\")\n",
    "        \n",
    "        knn = dist_matrix.argsort(axis=0)[:self.k, :].T\n",
    "        if self.weights == \"uniform\":\n",
    "            y_pred = np.array([ self._majority_voting(self.y_train[knn][i]) for i in range(len(self.y_train[knn])) ])\n",
    "        elif self.weights == \"distance\":\n",
    "            weights = 1/(np.take_along_axis(dist_matrix, knn.T, 0)+1e-5)\n",
    "            y_pred = np.array([ self._weighted_majority_voting(y_train[knn][i], weights[:, i]) for i in range(len(y_train[knn])) ])\n",
    "        else:\n",
    "            raise Exception(\"Unknown weights\")\n",
    "        return y_pred"
   ]
  },
  {
   "cell_type": "code",
   "execution_count": 10,
   "id": "e2b4489f-f146-4af4-8941-c521db0101cf",
   "metadata": {},
   "outputs": [
    {
     "data": {
      "text/plain": [
       "array(['Iris-setosa', 'Iris-setosa', 'Iris-setosa', 'Iris-setosa',\n",
       "       'Iris-setosa', 'Iris-setosa', 'Iris-setosa', 'Iris-setosa',\n",
       "       'Iris-setosa', 'Iris-setosa', 'Iris-setosa', 'Iris-versicolor',\n",
       "       'Iris-versicolor', 'Iris-versicolor', 'Iris-versicolor',\n",
       "       'Iris-versicolor', 'Iris-versicolor', 'Iris-versicolor',\n",
       "       'Iris-versicolor', 'Iris-versicolor', 'Iris-versicolor',\n",
       "       'Iris-virginica', 'Iris-virginica', 'Iris-virginica',\n",
       "       'Iris-virginica', 'Iris-virginica', 'Iris-virginica',\n",
       "       'Iris-virginica', 'Iris-virginica', 'Iris-virginica'], dtype='<U15')"
      ]
     },
     "execution_count": 10,
     "metadata": {},
     "output_type": "execute_result"
    }
   ],
   "source": [
    "knn_model = KNearestNeighbors(3, \"cosine\")\n",
    "knn_model.fit(X_train, y_train)\n",
    "y_pred = knn_model.predict(X_test)\n",
    "y_pred"
   ]
  },
  {
   "cell_type": "markdown",
   "id": "d72b2058-28a8-4450-bb98-cd0152c5d882",
   "metadata": {},
   "source": [
    "#### Exercise 1.1.7\n",
    "Now let’s fit the KNN model with the X_train and y_train data. Then, try to use your KNN model\n",
    "to predict the species for each record in X_test and store them in a nupy array called y_pred.\n",
    "Check how many Iris species in the array y_pred have been guessed correctly with respect to the ones in y_test."
   ]
  },
  {
   "cell_type": "code",
   "execution_count": 11,
   "id": "f0897516-cb3c-4a67-a729-e6be60f995e5",
   "metadata": {},
   "outputs": [],
   "source": [
    "# This function leverages the fact that booleans (the output of the equality check) are stored as 0's and 1's in numpy \n",
    "# (therefore, using sum() on a boolean array returns the number of True values).\n",
    "\n",
    "def accuracy_score(y_true, y_pred):\n",
    "    return (y_true==y_pred).sum()/len(y_true)"
   ]
  },
  {
   "cell_type": "code",
   "execution_count": 12,
   "id": "c025d898-9c92-412c-9444-447994ff2731",
   "metadata": {},
   "outputs": [
    {
     "data": {
      "text/plain": [
       "1.0"
      ]
     },
     "execution_count": 12,
     "metadata": {},
     "output_type": "execute_result"
    }
   ],
   "source": [
    "accuracy_score(y_test, y_pred)"
   ]
  }
 ],
 "metadata": {
  "kernelspec": {
   "display_name": "Python 3.11 venv",
   "language": "python",
   "name": "venv"
  },
  "language_info": {
   "codemirror_mode": {
    "name": "ipython",
    "version": 3
   },
   "file_extension": ".py",
   "mimetype": "text/x-python",
   "name": "python",
   "nbconvert_exporter": "python",
   "pygments_lexer": "ipython3",
   "version": "3.11.6"
  }
 },
 "nbformat": 4,
 "nbformat_minor": 5
}
