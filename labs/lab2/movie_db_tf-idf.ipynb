{
 "cells": [
  {
   "cell_type": "markdown",
   "id": "f1cabd3d-4c31-4797-a22d-bf143c04dc6e",
   "metadata": {},
   "source": [
    "# Lab2 exercises 2"
   ]
  },
  {
   "cell_type": "markdown",
   "id": "f83d7649-ca18-4b56-b875-f662a5250e29",
   "metadata": {},
   "source": [
    "### IMDB Data preparation\n",
    "IMDB = Internet Movie Database. is a popular online platform that gathers many information related to multimed like movies, tv shows, video games and many more.\n",
    "\n",
    "tf-idf = term frequency–inverse document frequency"
   ]
  },
  {
   "cell_type": "markdown",
   "id": "bf81d43d-3441-4a5b-a2f8-eca69055bc95",
   "metadata": {},
   "source": [
    "#### Preliminary steps"
   ]
  },
  {
   "cell_type": "code",
   "execution_count": 1,
   "id": "eb9020d7-c52a-438e-a436-25e907867142",
   "metadata": {},
   "outputs": [],
   "source": [
    "!test -e aclimdb_reviews_train.txt || wget https://raw.githubusercontent.com/dbdmg/data-science-lab/master/datasets/aclimdb_reviews_train.txt -O aclimdb_reviews_train.txt"
   ]
  },
  {
   "cell_type": "markdown",
   "id": "c7f56108-31d8-4203-81d5-a20014724261",
   "metadata": {},
   "source": [
    "#### Exercise 2.1\n",
    "Load the IMDb dataset as a list of lists."
   ]
  },
  {
   "cell_type": "code",
   "execution_count": 2,
   "id": "c48483e6-cdb6-4da3-88af-bef08203761d",
   "metadata": {},
   "outputs": [
    {
     "name": "stdout",
     "output_type": "stream",
     "text": [
      "Measurements ['review', 'label']\n",
      "Loaded 25000 rows\n",
      "Number of 1's and 0's: [(1, 12500), (0, 12500)]\n"
     ]
    }
   ],
   "source": [
    "import csv\n",
    "from collections import Counter\n",
    "\n",
    "dataset = [ [], [] ]\n",
    "NUMBER_OF_COLS = 2\n",
    "NUMBER_OF_ROWS = 0\n",
    "MEASUREMENTS = []\n",
    "with open(\"aclimdb_reviews_train.txt\") as f:\n",
    "    for row in csv.reader(f):\n",
    "        NUMBER_OF_ROWS = NUMBER_OF_ROWS + 1\n",
    "        if NUMBER_OF_ROWS == 1:\n",
    "            MEASUREMENTS = row\n",
    "            continue\n",
    "        if len(row) == NUMBER_OF_COLS:  # only do this if the number of columns is as expected\n",
    "            dataset[0].append(row[0])\n",
    "            dataset[1].append(int(row[1]))\n",
    "NUMBER_OF_ROWS = NUMBER_OF_ROWS - 1\n",
    "\n",
    "print(f\"Measurements {MEASUREMENTS}\")\n",
    "print(f\"Loaded {NUMBER_OF_ROWS} rows\")\n",
    "print(f\"Number of 1's and 0's:\", [(k, v) for k, v in Counter(dataset[1]).items()])"
   ]
  },
  {
   "cell_type": "code",
   "execution_count": 3,
   "id": "7fa0b458-4888-4540-b948-83b2cb8651a4",
   "metadata": {},
   "outputs": [
    {
     "name": "stdout",
     "output_type": "stream",
     "text": [
      "1 Bizarre horror movie filled with famous faces but stolen by Cristina Raines (later of TV's \"Flamingo Road\") as a pretty but somewhat unstable model with a gummy smile who is slated to pay for her attempted suicides by guarding the Gateway to Hell! The scenes with Raines modeling are very well captured, the mood music is perfect, Deborah Raffin is charming as Cristina's pal, but when Raines moves into a creepy Brooklyn Heights brownstone (inhabited by a blind priest on the top floor), things really start cooking. The neighbors, including a fantastically wicked Burgess Meredith and kinky couple Sylvia Miles & Beverly D'Angelo, are a diabolical lot, and Eli Wallach is great fun as a wily police detective. The movie is nearly a cross-pollination of \"Rosemary's Baby\" and \"The Exorcist\"--but what a combination! Based on the best-seller by Jeffrey Konvitz, \"The Sentinel\" is entertainingly spooky, full of shocks brought off well by director Michael Winner, who mounts a thoughtfully downbeat ending with skill. ***1/2 from ****\n"
     ]
    }
   ],
   "source": [
    "idx = 2\n",
    "print(dataset[1][idx], dataset[0][idx])"
   ]
  },
  {
   "cell_type": "markdown",
   "id": "67023f32-70a2-496b-a4f1-573169894066",
   "metadata": {},
   "source": [
    "#### Exercise 2.2\n",
    "Apply the tokenization function listed below to your reviews.Please refer to the function’s docstring for the input and output parameters. The tokenization procedure splits each comment in tokens (i.e. separate words)."
   ]
  },
  {
   "cell_type": "code",
   "execution_count": 4,
   "id": "eddf95c1-7d29-4ddd-a8ad-a25703735f2d",
   "metadata": {},
   "outputs": [],
   "source": [
    "import string\n",
    "\n",
    "def tokenize(docs):\n",
    "    \"\"\"Compute the tokens for each document.\n",
    "    Input: a list of strings. Each item is a document to tokenize.\n",
    "    Output: a list of lists. Each item is a list containing the tokens of the relative document.\n",
    "    \"\"\"\n",
    "    tokens = []\n",
    "    for doc in docs:\n",
    "        for punct in string.punctuation:  # string.punctuation is [ '!', '\"', '#', ... ]\n",
    "            doc = doc.replace(punct, \" \")\n",
    "        split_doc = [ token.lower() for token in doc.split(\" \") if token ]\n",
    "        tokens.append(split_doc)\n",
    "    return tokens"
   ]
  },
  {
   "cell_type": "code",
   "execution_count": 5,
   "id": "53b45f58-520a-4178-a2b7-089c71588625",
   "metadata": {},
   "outputs": [],
   "source": [
    "token_list = tokenize(dataset[0])  # tokenize reviews"
   ]
  },
  {
   "cell_type": "code",
   "execution_count": 6,
   "id": "1d9a56d1-aad6-49c6-bab3-5535ce582fed",
   "metadata": {},
   "outputs": [
    {
     "name": "stdout",
     "output_type": "stream",
     "text": [
      "['for', 'a', 'movie', 'that', 'gets', 'no', 'respect', 'there', 'sure', 'are', 'a', 'lot', 'of', 'memorable', 'quotes', 'listed', 'for', 'this', 'gem', 'imagine', 'a', 'movie', 'where', 'joe', 'piscopo', 'is', 'actually', 'funny', 'maureen', 'stapleton', 'is', 'a', 'scene', 'stealer', 'the', 'moroni', 'character', 'is', 'an', 'absolute', 'scream', 'watch', 'for', 'alan', 'the', 'skipper', 'hale', 'jr', 'as', 'a', 'police', 'sgt']\n"
     ]
    }
   ],
   "source": [
    "print(token_list[0])"
   ]
  },
  {
   "cell_type": "markdown",
   "id": "886ee27d-02a2-4028-a8fa-c72174738413",
   "metadata": {},
   "source": [
    "#### Exercise 2.3\n",
    "The next step requires the computation of the term frequency (TF) of each token within its respective document. Although there exist different techniques to evaluate the frequency, we will now assume that the TF of a token t in a document d is equal to the number of occurrences of t in d. Compute the TF for all your reviews."
   ]
  },
  {
   "cell_type": "code",
   "execution_count": 7,
   "id": "71e32668-b6cb-42f6-bf5f-eaf4596a8829",
   "metadata": {},
   "outputs": [],
   "source": [
    "def compute_TF(token_list):\n",
    "    TF = []\n",
    "\n",
    "    for document in token_list:\n",
    "        tf = {}\n",
    "        for token in document:\n",
    "            tf[token] = tf.get(token, 0) + 1\n",
    "        TF.append(tf)\n",
    "    return TF"
   ]
  },
  {
   "cell_type": "code",
   "execution_count": 8,
   "id": "79a4a4fd-327a-442a-b025-c66195a9caf9",
   "metadata": {},
   "outputs": [],
   "source": [
    "TF_list = compute_TF(token_list)"
   ]
  },
  {
   "cell_type": "code",
   "execution_count": 9,
   "id": "655bb49a-bb3c-4bb8-84da-e403beb97931",
   "metadata": {},
   "outputs": [
    {
     "name": "stdout",
     "output_type": "stream",
     "text": [
      "{'for': 3, 'a': 5, 'movie': 2, 'that': 1, 'gets': 1, 'no': 1, 'respect': 1, 'there': 1, 'sure': 1, 'are': 1, 'lot': 1, 'of': 1, 'memorable': 1, 'quotes': 1, 'listed': 1, 'this': 1, 'gem': 1, 'imagine': 1, 'where': 1, 'joe': 1, 'piscopo': 1, 'is': 3, 'actually': 1, 'funny': 1, 'maureen': 1, 'stapleton': 1, 'scene': 1, 'stealer': 1, 'the': 2, 'moroni': 1, 'character': 1, 'an': 1, 'absolute': 1, 'scream': 1, 'watch': 1, 'alan': 1, 'skipper': 1, 'hale': 1, 'jr': 1, 'as': 1, 'police': 1, 'sgt': 1}\n"
     ]
    }
   ],
   "source": [
    "print(TF_list[0])"
   ]
  },
  {
   "attachments": {
    "b9716adb-7083-45e0-a856-34abe10cb7e0.png": {
     "image/png": "[encoded data removed]"
    }
   },
   "cell_type": "markdown",
   "id": "aba6956d-933d-4daf-95e7-b9c2bf1eda06",
   "metadata": {},
   "source": [
    "#### Exercise 2.4\n",
    "We will now compute the inverse document frequency (IDF). While the TF gives an idea of the weight of a token within a document, the IDF is used to find its significance among the entire collection of documents (i.e. your reviews). One possible way of computing it is:\n",
    "\n",
    "![image.png](attachment:b9716adb-7083-45e0-a856-34abe10cb7e0.png)\n",
    "\n",
    "where N is the number of documents and DFt is the document frequency of a token, i.e. the number of documents in which t appears at least once. As you can see, IDFt ∈ [0,logN]. Furthermore, a low value means that the token appears in the majority of the documents, hence its presence is not relevant to characterize any subset of them, whereas an high value indicates relevance for a few documents.\n",
    "\n",
    "(a) Compute the DF for all of your tokens;\n",
    "\n",
    "(b) Compute the IDF for all of your tokens;\n",
    "\n",
    "(c) Try to sort the IDF values in ascending order. Which tokens (i.e. words) came to the top? Can you figure out why?"
   ]
  },
  {
   "cell_type": "code",
   "execution_count": 10,
   "id": "d423b3fc-8017-4645-bc99-0b81421235ed",
   "metadata": {},
   "outputs": [],
   "source": [
    "import math\n",
    "\n",
    "def compute_IDF(TF_list):\n",
    "    DF = {}\n",
    "    N = len(TF_list)  # numbers of reviews\n",
    "\n",
    "    # compute the document-frequency (DF), i.e. the number of documents in which each token appears at least once \n",
    "    for review_tf in TF_list:\n",
    "        for token, token_tf in review_tf.items():\n",
    "            DF[token] = DF.get(token, 0) + 1\n",
    "    # compute the actual IDF\n",
    "    return {token: math.log(N / df) for token, df in DF.items()}"
   ]
  },
  {
   "cell_type": "code",
   "execution_count": 11,
   "id": "45bb68d6-0044-44d7-9de3-7a2ebb4a62d2",
   "metadata": {},
   "outputs": [],
   "source": [
    "IDF_dict = compute_IDF(TF_list)"
   ]
  },
  {
   "cell_type": "code",
   "execution_count": 12,
   "id": "ea690394-c661-4b4f-b492-6b86635077ac",
   "metadata": {},
   "outputs": [],
   "source": [
    "sorted_view = sorted(IDF_dict.items(), key=lambda item: item[1])"
   ]
  },
  {
   "cell_type": "code",
   "execution_count": 13,
   "id": "064b4724-3cf9-4afc-8594-fe9bf979d463",
   "metadata": {},
   "outputs": [
    {
     "data": {
      "text/plain": [
       "[('the', 0.008314469604085238),\n",
       " ('a', 0.03351541933781697),\n",
       " ('and', 0.03401190259170586),\n",
       " ('of', 0.05226218466281087),\n",
       " ('to', 0.06293979977387414),\n",
       " ('this', 0.09924591465797242),\n",
       " ('is', 0.1086102347240488),\n",
       " ('it', 0.11536595914077863),\n",
       " ('in', 0.12606221366364628),\n",
       " ('that', 0.20722099077039452)]"
      ]
     },
     "execution_count": 13,
     "metadata": {},
     "output_type": "execute_result"
    }
   ],
   "source": [
    "# Most frequent words\n",
    "sorted_view[:10]"
   ]
  },
  {
   "cell_type": "code",
   "execution_count": 14,
   "id": "96aec529-0281-4979-a84c-adfe59895040",
   "metadata": {},
   "outputs": [
    {
     "data": {
      "text/plain": [
       "[('ant1', 10.126631103850338),\n",
       " ('infantalising', 10.126631103850338),\n",
       " ('roué', 10.126631103850338),\n",
       " ('orientalist', 10.126631103850338),\n",
       " ('imy', 10.126631103850338),\n",
       " ('jayden', 10.126631103850338),\n",
       " ('repleat', 10.126631103850338),\n",
       " ('jowls', 10.126631103850338),\n",
       " ('camora', 10.126631103850338),\n",
       " ('capiche', 10.126631103850338)]"
      ]
     },
     "execution_count": 14,
     "metadata": {},
     "output_type": "execute_result"
    }
   ],
   "source": [
    "# Less frequent words\n",
    "sorted_view[-10:]"
   ]
  },
  {
   "cell_type": "markdown",
   "id": "f0c52408-5ac6-4c0e-99cd-335b5b975111",
   "metadata": {},
   "source": [
    "The words with the lowest IDF values show up in the majority of documents. Looking at them, you can notice that they are mainly articles, conjunctions, pronouns or even single letters. These words, which are commonly known as stopwords, are typically removed in the majority of text processing tasks."
   ]
  },
  {
   "attachments": {
    "32a2fcb6-5e02-4628-b6c6-0c678a04d708.png": {
     "image/png": "[encoded data removed]"
    }
   },
   "cell_type": "markdown",
   "id": "8faba7e4-660f-4fc0-ad59-b5b4f1ccfa43",
   "metadata": {},
   "source": [
    "#### Exercise 2.5\n",
    "Compute the TF-IDF. Combine the definitions of term frequency (TF) and inverse document frequency (IDF), to produce a composite weight for each term in each document. The TF-IDF weighting scheme assigns to a term t a weight in the document d given by:\n",
    "\n",
    "![image.png](attachment:32a2fcb6-5e02-4628-b6c6-0c678a04d708.png)\n",
    "\n",
    "In other words assigns to term t a weight in document d that is:\n",
    "\n",
    "• high when t occurs many times within a small number of documents;\n",
    "\n",
    "• low when the term occurs fewer times in a document, or occurs in many documents (thus offering a less pronounced relevance signal);\n",
    "\n",
    "• lowest when the term occurs in virtually all documents.\n",
    "\n",
    "For dictionary terms that do not occur in a document, the weight is zero.\n",
    "The suggested output structure is a list of dictionaries. Each dictionary represents a document and contains its tokens as key and weights."
   ]
  },
  {
   "cell_type": "code",
   "execution_count": 15,
   "id": "61720bb1-ee86-4f8f-8206-ba65e08e8a36",
   "metadata": {},
   "outputs": [],
   "source": [
    "def compute_TFIDF(TF_list, IDF_dict):\n",
    "    TFIDF = []\n",
    "    \n",
    "    for d in TF_list:\n",
    "        tfidf = {}\n",
    "        for t, t_tf in d.items():\n",
    "            tfidf[t] = t_tf * IDF_dict[t]\n",
    "        TFIDF.append(tfidf)\n",
    "    return TFIDF"
   ]
  },
  {
   "cell_type": "code",
   "execution_count": 16,
   "id": "477f37ec-517c-43d0-b5a2-a6134de48232",
   "metadata": {},
   "outputs": [],
   "source": [
    "tf_idf = compute_TFIDF(TF_list, IDF_dict)"
   ]
  },
  {
   "cell_type": "code",
   "execution_count": 17,
   "id": "178ecf48-ec60-46df-ab63-4f887ca8c0b5",
   "metadata": {},
   "outputs": [
    {
     "data": {
      "text/plain": [
       "{'for': 1.005075851886905,\n",
       " 'a': 0.16757709668908488,\n",
       " 'movie': 0.9813925049416498,\n",
       " 'that': 0.20722099077039452,\n",
       " 'gets': 2.257229391273248,\n",
       " 'no': 1.1141321003261466,\n",
       " 'respect': 3.9845936982629815,\n",
       " 'there': 0.837387134278689,\n",
       " 'sure': 2.3530366364901436,\n",
       " 'are': 0.5868431101899066,\n",
       " 'lot': 2.0319474551515233,\n",
       " 'of': 0.05226218466281087,\n",
       " 'memorable': 3.6936910111111585,\n",
       " 'quotes': 5.5940316106970815,\n",
       " 'listed': 5.339139361068292,\n",
       " 'this': 0.09924591465797242,\n",
       " 'gem': 4.291820366787733,\n",
       " 'imagine': 3.587045148232668,\n",
       " 'where': 1.655900786844441,\n",
       " 'joe': 4.137669686960474,\n",
       " 'piscopo': 7.418580902748128,\n",
       " 'is': 0.3258307041721464,\n",
       " 'actually': 1.982532640511814,\n",
       " 'funny': 2.0743346043116913,\n",
       " 'maureen': 6.437751649736401,\n",
       " 'stapleton': 7.561681746388801,\n",
       " 'scene': 1.8767946184246356,\n",
       " 'stealer': 7.487573774235079,\n",
       " 'the': 0.016628939208170476,\n",
       " 'moroni': 8.740336742730447,\n",
       " 'character': 1.641547966352334,\n",
       " 'an': 0.7166205367455873,\n",
       " 'absolute': 4.315490110873637,\n",
       " 'scream': 4.706096104578052,\n",
       " 'watch': 1.5199629060064976,\n",
       " 'alan': 4.625372893305611,\n",
       " 'skipper': 7.929406526514119,\n",
       " 'hale': 6.515713191206113,\n",
       " 'jr': 4.5932416151228175,\n",
       " 'as': 0.4389391649658812,\n",
       " 'police': 3.460947386067929,\n",
       " 'sgt': 6.4630694577206915}"
      ]
     },
     "execution_count": 17,
     "metadata": {},
     "output_type": "execute_result"
    }
   ],
   "source": [
    "tf_idf[0]"
   ]
  },
  {
   "attachments": {
    "774f90d3-2454-4a4f-9427-4c950e681d94.png": {
     "image/png": "[encoded data removed]"
    }
   },
   "cell_type": "markdown",
   "id": "2b6b4a2d-8f53-404d-acdd-a04dbd6e6e46",
   "metadata": {},
   "source": [
    "#### Exercise 2.6\n",
    "(*) Sentiment analysis. Given a document, identify if it belongs to positive or negative comments calculating the similarity between the comments in the two groups.\n",
    "\n",
    "Official solution: https://dbdmg.polito.it/dbdmg_web/wp-content/uploads/2021/10/solution-1.html\n",
    "\n",
    "How do we quantify the similarity between two documents exploiting TF-IDF vector representation?\n",
    "\n",
    "\n",
    "A first attempt might consider the magnitude of the vector difference between two document vectors. This measure suffers from a drawback: two documents with very similar content can have a significant vector difference simply because one is much longer than the other. \n",
    "Thus the relative distributions of terms may be identical in the two documents, but the absolute term frequencies of one may be far larger. To compensate for the effect of document length, the standard way of quantifying the similarity between two documents d1 and d2 is to compute the cosine similarity of their vector representations V⃗ (d1) and V⃗ (d2):\n",
    "\n",
    "![image.png](attachment:774f90d3-2454-4a4f-9427-4c950e681d94.png)\n",
    "\n",
    "\n",
    "To solve this simple task of sentiment analysis you have to:\n",
    "\n",
    "(a) Take the vector representation of the first document in the collection. We will call it the test document.\n",
    "\n",
    "(b) Identify the positive and negative comments and separate them into two groups.\n",
    "\n",
    "(c) Compute the cosine similarity between the test document and all the other positive and negative comments separately.\n",
    "Given that the vector representation for a document V⃗ (dn) is the dictionary of tokens with their weights, use the following functions to compute the cosine similarity:\n"
   ]
  },
  {
   "cell_type": "code",
   "execution_count": 18,
   "id": "dc840fd6-6368-4b35-800f-9aaf0e223b15",
   "metadata": {},
   "outputs": [],
   "source": [
    "def norm(d):\n",
    "    \"\"\"Compute the L2-norm of a vector representation.\"\"\"\n",
    "    return sum([ tf_idf**2 for t, tf_idf in d.items() ])**.5\n",
    "\n",
    "def dot_product(d1, d2):\n",
    "    \"\"\"Compute the dot product between two vector representations.\"\"\"\n",
    "    word_set = set(list(d1.keys()) + list(d2.keys()))\n",
    "    return sum([( d1.get(d, 0.0) * d2.get(d, 0.0)) for d in word_set ])\n",
    "\n",
    "def cosine_similarity(d1, d2):\n",
    "    \"\"\"\n",
    "    Compute the cosine similarity between documents d1 and d2.\n",
    "    Input: two dictionaries representing the TF-IDF vectors for documents\n",
    "    d1 and d2.\n",
    "    Output: the cosine similarity.\n",
    "    \"\"\"\n",
    "    return dot_product(d1, d2) / (norm(d1) * norm(d2))"
   ]
  },
  {
   "cell_type": "markdown",
   "id": "ff5294ec-7768-45e2-9f4d-358dc8b7e12f",
   "metadata": {},
   "source": [
    "(d) Assign the label (positive or negative) to the selected document analysing the mean similarity with respect to the group of positive comments and the mean similarity with respect to the group of negative comments.\n",
    "\n",
    "(e) Are you able to identify the correct group? Why?\n",
    "\n",
    "(f) Repeat the previous steps with other documents. Do you think the TF-IDF pre-processing is enough to perform a simple task of sentiment analysis?"
   ]
  },
  {
   "cell_type": "code",
   "execution_count": 19,
   "id": "a7f1c7d0-28f3-4844-b03b-acc396de16bd",
   "metadata": {},
   "outputs": [
    {
     "name": "stdout",
     "output_type": "stream",
     "text": [
      "Document (0) and document (1) have cosine similarity: 0.0013020727956807678\n"
     ]
    }
   ],
   "source": [
    "print('Document (0) and document (1) have cosine similarity:', cosine_similarity(tf_idf[0], tf_idf[1]))"
   ]
  },
  {
   "cell_type": "code",
   "execution_count": 20,
   "id": "1bbac4a5-8992-45e1-ad41-577e3a327ab2",
   "metadata": {},
   "outputs": [
    {
     "data": {
      "text/plain": [
       "(12500, 12500, [0, 2, 4, 6, 8])"
      ]
     },
     "execution_count": 20,
     "metadata": {},
     "output_type": "execute_result"
    }
   ],
   "source": [
    "pos_i = [i for i, label in enumerate(dataset[1]) if label == 1]\n",
    "neg_i = [i for i, label in enumerate(dataset[1]) if label == 0]\n",
    "len(pos_i), len(neg_i), pos_i[:5]"
   ]
  },
  {
   "cell_type": "code",
   "execution_count": 21,
   "id": "1e0515b0-e05e-4347-b809-fddae045d9cf",
   "metadata": {},
   "outputs": [
    {
     "name": "stdout",
     "output_type": "stream",
     "text": [
      "1.00%\n",
      "Interrupted\n",
      "Computed 251 reviews up to now. Accuracy: 0.00%\n"
     ]
    }
   ],
   "source": [
    "import numpy as np\n",
    "\n",
    "similarities = []\n",
    "y_true = dataset[1]\n",
    "y_pred = []\n",
    "r_len = len(tf_idf)\n",
    "try:\n",
    "    for i, r1 in enumerate(tf_idf):\n",
    "        store_sim = []\n",
    "        curr_sim = []\n",
    "        for j, r2 in enumerate(tf_idf):\n",
    "            if j == i:\n",
    "                curr_sim.append(-1) # this value will never be used\n",
    "            elif j < i:\n",
    "                curr_sim.append(similarities[j][i-j-1]) # reuse the similarities already evaluated\n",
    "            else:\n",
    "                s = cosine_similarity(tf_idf[j], tf_idf[i])\n",
    "                store_sim.append(s)\n",
    "                curr_sim.append(s)\n",
    "        similarities.append(store_sim) # store only the similarities computed in this iteration\n",
    "        \n",
    "        if i in pos_i:\n",
    "            p_mask = pos_i.copy()\n",
    "            p_mask.pop(i)\n",
    "            n_mask = neg_i\n",
    "        else:\n",
    "            p_mask = pos_i\n",
    "            n_mask = neg_i.copy()\n",
    "            n_mask.pop(i)\n",
    "            \n",
    "        p_mean = np.array(curr_sim)[p_mask].mean()\n",
    "        n_mean = np.array(curr_sim)[n_mask].mean()   \n",
    "        \n",
    "        if p_mean > n_mean:\n",
    "            y_pred.append('1')\n",
    "        else:\n",
    "            y_pred.append('0')\n",
    "\n",
    "        progress = 100*i/(r_len)\n",
    "        \n",
    "        print(f'{progress:.2f}%', end='\\r')\n",
    "\n",
    "        if progress > 1.0:\n",
    "            raise Exception(\"Better to stop :)\")\n",
    "except Exception:\n",
    "    print('\\nInterrupted')\n",
    "    pred_c = len(y_pred)\n",
    "    correct = sum([1 for t, p in zip(y_pred, y_true[:pred_c]) if t == p])\n",
    "    print(f'Computed {i} reviews up to now. Accuracy: {correct/pred_c * 100:.2f}%')"
   ]
  },
  {
   "cell_type": "code",
   "execution_count": null,
   "id": "7b885158-b522-4f4f-9ef9-4cc22d60abb3",
   "metadata": {},
   "outputs": [],
   "source": []
  }
 ],
 "metadata": {
  "kernelspec": {
   "display_name": "Python 3.11 venv",
   "language": "python",
   "name": "venv"
  },
  "language_info": {
   "codemirror_mode": {
    "name": "ipython",
    "version": 3
   },
   "file_extension": ".py",
   "mimetype": "text/x-python",
   "name": "python",
   "nbconvert_exporter": "python",
   "pygments_lexer": "ipython3",
   "version": "3.11.6"
  }
 },
 "nbformat": 4,
 "nbformat_minor": 5
}
