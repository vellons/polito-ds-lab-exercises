{
 "cells": [
  {
   "cell_type": "markdown",
   "id": "f1cabd3d-4c31-4797-a22d-bf143c04dc6e",
   "metadata": {},
   "source": [
    "# Lab2 exercises 1"
   ]
  },
  {
   "cell_type": "code",
   "execution_count": 1,
   "id": "9414c5a8-dbca-4da2-9615-c50d562a7fd7",
   "metadata": {},
   "outputs": [
    {
     "data": {
      "image/png": "[encoded data removed]",
      "text/plain": [
       "<Figure size 640x480 with 1 Axes>"
      ]
     },
     "metadata": {},
     "output_type": "display_data"
    }
   ],
   "source": [
    "# Testing matplotlib import\n",
    "from random import gauss\n",
    "import matplotlib.pyplot as plt\n",
    "%matplotlib inline\n",
    "l = [gauss(0, 1) for _ in range(500)]\n",
    "plt.hist(l)\n",
    "plt.title('Gaussian distribution (mu=0, sigma=1)')\n",
    "plt.show()"
   ]
  },
  {
   "cell_type": "markdown",
   "id": "f83d7649-ca18-4b56-b875-f662a5250e29",
   "metadata": {},
   "source": [
    "### Temperatures"
   ]
  },
  {
   "cell_type": "markdown",
   "id": "bf81d43d-3441-4a5b-a2f8-eca69055bc95",
   "metadata": {},
   "source": [
    "#### Preliminary steps"
   ]
  },
  {
   "cell_type": "code",
   "execution_count": 2,
   "id": "eb9020d7-c52a-438e-a436-25e907867142",
   "metadata": {},
   "outputs": [],
   "source": [
    "!test -e GLT_filtered.csv || wget https://raw.githubusercontent.com/dbdmg/data-science-lab/master/datasets/GLT_filtered.csv -O GLT_filtered.csv"
   ]
  },
  {
   "cell_type": "markdown",
   "id": "c7f56108-31d8-4203-81d5-a20014724261",
   "metadata": {},
   "source": [
    "#### Exercise 2.1\n",
    "Load the Global Land Temperature dataset as a list of lists. Before starting, take a moment to better inspect the attributes you are going to work on. How many of them are nominal, how many continuous or discrete?"
   ]
  },
  {
   "cell_type": "code",
   "execution_count": 3,
   "id": "c48483e6-cdb6-4da3-88af-bef08203761d",
   "metadata": {},
   "outputs": [
    {
     "name": "stdout",
     "output_type": "stream",
     "text": [
      "Loaded 219576 rows\n"
     ]
    }
   ],
   "source": [
    "import csv\n",
    "\n",
    "dataset = [ [], [], [], [], [], [], [] ]\n",
    "NUMBER_OF_COLS = 7\n",
    "measurements = [ \"date\", \"avg_temp\", \"avg_temp_uncertainity\", \"city\", \"country\", \"latitude\", \"longitude\" ]\n",
    "with open(\"GLT_filtered.csv\") as f:\n",
    "    number_of_rows = 0\n",
    "    for row in csv.reader(f):\n",
    "        number_of_rows = number_of_rows + 1\n",
    "        if number_of_rows == 1:\n",
    "            continue\n",
    "        if len(row) == NUMBER_OF_COLS: # only do this if the number of columns is 7, as expected\n",
    "            dataset[0].append(row[0])\n",
    "            dataset[1].append(float(row[1]) if row[1] != \"\" else None)\n",
    "            dataset[2].append(float(row[2]) if row[2] != \"\" else None)\n",
    "            dataset[3].append(row[3])\n",
    "            dataset[4].append(row[4])\n",
    "            dataset[5].append(row[5])\n",
    "            dataset[6].append(row[6])\n",
    "        \n",
    "print(f\"Loaded {number_of_rows} rows\")"
   ]
  },
  {
   "cell_type": "code",
   "execution_count": 4,
   "id": "7fa0b458-4888-4540-b948-83b2cb8651a4",
   "metadata": {},
   "outputs": [
    {
     "name": "stdout",
     "output_type": "stream",
     "text": [
      "1849-03-01 None None Abidjan Côte D'Ivoire 5.63N 3.23W\n"
     ]
    }
   ],
   "source": [
    "idx = 2\n",
    "print(dataset[0][idx], dataset[1][idx], dataset[2][idx], dataset[3][idx], dataset[4][idx], dataset[5][idx], dataset[6][idx])"
   ]
  },
  {
   "cell_type": "markdown",
   "id": "67023f32-70a2-496b-a4f1-573169894066",
   "metadata": {},
   "source": [
    "#### Exercise 2.2\n",
    "Analyze the attribute AverageTemperature, which contains missing values. Fill any gap with the arithmetic mean among the closest antecedent and the closest successive measurements in time, taken in the same city. Assume the following rules for edge cases:\n",
    "\n",
    "(a) it can happen that a missing value does not have a preceding (or successive) measurement. This happens when the missing value is the first (or last) value of the dataset. If this is the case, consider the missing value to be preceded (or followed) by a 0, then compute the mean accordingly.\n",
    "\n",
    "original_list = [ '', 5, 6, '' ]\n",
    "\n",
    "step_1 = [ 2.5, 5, 6, '' ] # (0 + 5) / 2 \n",
    "\n",
    "step_2 =[2.5,5,6, 3]#(6+0)/2\n",
    "\n",
    "(b) if there are consecutive missing values, just compute them in temporal order and use the newly inserted values to evaluate the following ones. Here it is an example with a simple list where both (a) and (b) rules have been applied:\n",
    "original_list\n",
    "step_1\n",
    "step_2\n",
    "\n",
    "= [ '', '', 24, 28.9 ]\n",
    "\n",
    "= [ 12, '', 24, 28.9 ] # (0 + 24) / 2\n",
    "\n",
    "= [ 12, 18, 24, 28.9 ] # (12 + 24) / 2"
   ]
  },
  {
   "cell_type": "code",
   "execution_count": 5,
   "id": "eddf95c1-7d29-4ddd-a8ad-a25703735f2d",
   "metadata": {},
   "outputs": [
    {
     "name": "stdout",
     "output_type": "stream",
     "text": [
      "Number of missing values for date = 0\n",
      "Number of missing values for avg_temp = 27581\n",
      "Number of missing values for avg_temp_uncertainity = 27581\n",
      "Number of missing values for city = 0\n",
      "Number of missing values for country = 0\n",
      "Number of missing values for latitude = 0\n",
      "Number of missing values for longitude = 0\n"
     ]
    }
   ],
   "source": [
    "# Find number of missing values\n",
    "for i in range(NUMBER_OF_COLS):\n",
    "    missing = 0\n",
    "    for v in range(len(dataset[i])):\n",
    "        if dataset[i][v] is None:\n",
    "            missing = missing + 1\n",
    "    print(f\"Number of missing values for {measurements[i]} = {missing}\")"
   ]
  },
  {
   "cell_type": "code",
   "execution_count": 6,
   "id": "9d1aa284-c64d-4bea-8c6b-a338218c222e",
   "metadata": {},
   "outputs": [
    {
     "name": "stdout",
     "output_type": "stream",
     "text": [
      "Number of cities = 100\n"
     ]
    }
   ],
   "source": [
    "# Find number of cities\n",
    "cities = []\n",
    "for i in range(len(dataset[3])):\n",
    "    if dataset[3][i] not in cities:\n",
    "        cities.append(dataset[3][i])\n",
    "print(f\"Number of cities = {len(cities)}\")"
   ]
  },
  {
   "cell_type": "code",
   "execution_count": 7,
   "id": "93954ba7-b1c5-4601-b253-e9178cea926a",
   "metadata": {},
   "outputs": [],
   "source": [
    "# _l = [ None, 2.0, 3.0, None, 5.0, 6.0, None, None, None, 1.0, None ]\n",
    "def compute_missings(l, start, end):\n",
    "    \"\"\"function to fill missing values of a list\"\"\"\n",
    "    antecedent = l[0]\n",
    "    if antecedent is None:\n",
    "        antecedent = 0\n",
    "    for i in range(start, end):\n",
    "        # print(f\"Scanning {l[i]}:\")\n",
    "        # print(f\" antecedent {antecedent}\")\n",
    "        if l[i] is None:\n",
    "            # print(f\"  current is none!\")\n",
    "            # Find first successive\n",
    "            successive = None\n",
    "            for miss_i in range(i, end):  # Not so efficent\n",
    "                if l[miss_i] is not None:\n",
    "                    successive = l[miss_i]\n",
    "                    break\n",
    "            # print(f\"  next successive is {successive}\")\n",
    "            if successive is None:\n",
    "                successive = 0\n",
    "            l[i] = (antecedent + successive) / 2\n",
    "            # print(f\" set value to {l[i]}\")\n",
    "\n",
    "        antecedent = l[i]\n",
    "        # print()\n",
    "        \n",
    "# compute_missings(_l, 0, len(_l))\n",
    "# print(_l)"
   ]
  },
  {
   "cell_type": "code",
   "execution_count": 8,
   "id": "da9c8e41-585f-436a-ae2a-d70c95688e91",
   "metadata": {},
   "outputs": [
    {
     "name": "stdout",
     "output_type": "stream",
     "text": [
      "[26.704, 27.434, None, 26.14, 25.427, 24.844, 24.058000000000003, 23.576, None, 25.263]\n"
     ]
    }
   ],
   "source": [
    "print(dataset[1][0:10])\n",
    "compute_missings(dataset[1], 0, 10)"
   ]
  },
  {
   "cell_type": "code",
   "execution_count": 9,
   "id": "c76582bf-c738-45f5-b759-54055a9f1b6f",
   "metadata": {},
   "outputs": [
    {
     "name": "stdout",
     "output_type": "stream",
     "text": [
      "1849-09-01 24.4195 None Abidjan Côte D'Ivoire 5.63N 3.23W\n"
     ]
    }
   ],
   "source": [
    "idx = 8\n",
    "print(dataset[0][idx], dataset[1][idx], dataset[2][idx], dataset[3][idx], dataset[4][idx], dataset[5][idx], dataset[6][idx])"
   ]
  },
  {
   "cell_type": "code",
   "execution_count": 10,
   "id": "a5efe87f-1518-4497-8e2e-594030d6e0fd",
   "metadata": {},
   "outputs": [
    {
     "name": "stdout",
     "output_type": "stream",
     "text": [
      "Compute missing values\n",
      " City Abidjan from 0 to 1967\n",
      " City Addis Abeba from 1968 to 3923\n",
      " City Ahmadabad from 3924 to 6275\n",
      " City Aleppo from 6276 to 8627\n",
      " City Alexandria from 8628 to 10979\n",
      " City Ankara from 10980 to 13331\n",
      " City Baghdad from 13332 to 15659\n",
      " City Bangalore from 15660 to 18011\n",
      " City Bangkok from 18012 to 20363\n",
      " City Belo Horizonte from 20364 to 22535\n",
      " City Berlin from 22536 to 24887\n",
      " City Bogotá from 24888 to 27155\n",
      " City Bombay from 27156 to 29507\n",
      " City Brasília from 29508 to 31679\n",
      " City Cairo from 31680 to 34031\n",
      " City Calcutta from 34032 to 36383\n",
      " City Cali from 36384 to 38639\n",
      " City Cape Town from 38640 to 40511\n",
      " City Casablanca from 40512 to 42863\n",
      " City Changchun from 42864 to 45172\n",
      " City Chengdu from 45173 to 47481\n",
      " City Chicago from 47482 to 49833\n",
      " City Chongqing from 49834 to 51909\n",
      " City Dakar from 51910 to 53877\n",
      " City Dalian from 53878 to 56081\n",
      " City Dar Es Salaam from 56082 to 58037\n",
      " City Delhi from 58038 to 60389\n",
      " City Dhaka from 60390 to 62741\n",
      " City Durban from 62742 to 64613\n",
      " City Faisalabad from 64614 to 66965\n",
      " City Fortaleza from 66966 to 68981\n",
      " City Gizeh from 68982 to 71333\n",
      " City Guangzhou from 71334 to 73409\n",
      " City Harare from 73410 to 75365\n",
      " City Harbin from 75366 to 77674\n",
      " City Ho Chi Minh City from 77675 to 79930\n",
      " City Hyderabad from 79931 to 82282\n",
      " City Ibadan from 82283 to 84166\n",
      " City Istanbul from 84167 to 86518\n",
      " City Izmir from 86519 to 88870\n",
      " City Jaipur from 88871 to 91222\n",
      " City Jakarta from 91223 to 93478\n",
      " City Jiddah from 93479 to 95518\n",
      " City Jinan from 95519 to 97594\n",
      " City Kabul from 97595 to 99754\n",
      " City Kano from 99755 to 101638\n",
      " City Kanpur from 101639 to 103990\n",
      " City Karachi from 103991 to 106342\n",
      " City Kiev from 106343 to 108694\n",
      " City Kinshasa from 108695 to 110578\n",
      " City Lagos from 110579 to 112546\n",
      " City Lahore from 112547 to 114898\n",
      " City Lakhnau from 114899 to 117250\n",
      " City Lima from 117251 to 118832\n",
      " City London from 118833 to 121184\n",
      " City Los Angeles from 121185 to 123152\n",
      " City Luanda from 123153 to 125036\n",
      " City Madras from 125037 to 127388\n",
      " City Madrid from 127389 to 129740\n",
      " City Manila from 129741 to 131756\n",
      " City Mashhad from 131757 to 133928\n",
      " City Melbourne from 133929 to 135992\n",
      " City Mexico from 135993 to 138128\n",
      " City Mogadishu from 138129 to 140084\n",
      " City Montreal from 140085 to 142436\n",
      " City Moscow from 142437 to 144788\n",
      " City Nagoya from 144789 to 146849\n",
      " City Nagpur from 146850 to 149201\n",
      " City Nairobi from 149202 to 151157\n",
      " City Nanjing from 151158 to 153221\n",
      " City New Delhi from 153222 to 155573\n",
      " City New York from 155574 to 157925\n",
      " City Paris from 157926 to 160277\n",
      " City Peking from 160278 to 162586\n",
      " City Pune from 162587 to 164938\n",
      " City Rangoon from 164939 to 167290\n",
      " City Rio De Janeiro from 167291 to 169462\n",
      " City Riyadh from 169463 to 171502\n",
      " City Rome from 171503 to 173854\n",
      " City Saint Petersburg from 173855 to 176206\n",
      " City Salvador from 176207 to 178378\n",
      " City Santiago from 178379 to 180270\n",
      " City Santo Domingo from 180271 to 182538\n",
      " City Seoul from 182539 to 184626\n",
      " City Shanghai from 184627 to 186690\n",
      " City Shenyang from 186691 to 188894\n",
      " City Singapore from 188895 to 191150\n",
      " City Surabaya from 191151 to 193406\n",
      " City Surat from 193407 to 195758\n",
      " City Sydney from 195759 to 197822\n",
      " City São Paulo from 197823 to 199994\n",
      " City Taipei from 199995 to 202058\n",
      " City Taiyuan from 202059 to 204367\n",
      " City Tangshan from 204368 to 206676\n",
      " City Tianjin from 206677 to 208985\n",
      " City Tokyo from 208986 to 211001\n",
      " City Toronto from 211002 to 213353\n",
      " City Umm Durman from 213354 to 215201\n",
      " City Wuhan from 215202 to 217265\n",
      " City Xian from 217266 to 219573\n"
     ]
    }
   ],
   "source": [
    "city_idx = 0\n",
    "print(f\"Compute missing values\")\n",
    "len_of_dataset = len(dataset[0])\n",
    "for i in range(len_of_dataset):\n",
    "    if dataset[3][city_idx] != dataset[3][i] or i == len_of_dataset - 1:\n",
    "        print(f\" City {dataset[3][city_idx]} from {city_idx} to {i-1}\")\n",
    "        compute_missings(dataset[1], city_idx, i)\n",
    "        city_idx = i"
   ]
  },
  {
   "cell_type": "markdown",
   "id": "886ee27d-02a2-4028-a8fa-c72174738413",
   "metadata": {},
   "source": [
    "#### Exercise 2.3\n",
    "Define a function that, given the name of a city and an integer N > 0, prints: \n",
    "(a) the top N hottest measurements;\n",
    "(b) the top N coldest measurements."
   ]
  },
  {
   "cell_type": "code",
   "execution_count": 11,
   "id": "7aa43c5f-a0ef-4174-8a3c-9587e81acdb2",
   "metadata": {},
   "outputs": [
    {
     "name": "stdout",
     "output_type": "stream",
     "text": [
      "(171503, 173854)\n"
     ]
    }
   ],
   "source": [
    "def extract_index_of_a_city(city):\n",
    "    idx_start = None\n",
    "    idx_end = None\n",
    "    for i in range(len(dataset[0])):\n",
    "        if dataset[3][i] == city and idx_start is None:\n",
    "            idx_start = i\n",
    "        if dataset[3][i] != city and idx_start is not None and idx_end is None:\n",
    "            idx_end = i\n",
    "            break\n",
    "    if idx_end is None and i == len(dataset[0]) - 1:\n",
    "        idx_end = i\n",
    "    return idx_start, idx_end - 1\n",
    "\n",
    "print(extract_index_of_a_city(\"Rome\"))"
   ]
  },
  {
   "cell_type": "code",
   "execution_count": 12,
   "id": "6bd23ba8-c1d9-437e-932c-943dd226dd5e",
   "metadata": {},
   "outputs": [
    {
     "name": "stdout",
     "output_type": "stream",
     "text": [
      "([24.873, 24.998, 25.951], [-1.4410000000000005, -1.3039999999999994, -1.0189999999999997])\n"
     ]
    }
   ],
   "source": [
    "def hottest_and_coldest_n_of_a_city(city, n):\n",
    "    start, end = extract_index_of_a_city(city)\n",
    "    if start is None or end is None:\n",
    "        return [], []\n",
    "    city_temp = sorted(dataset[1][start:end])\n",
    "    # print(city_temp)\n",
    "    return city_temp[(len(city_temp)-n):], city_temp[:n]  # hottest n, coldest n\n",
    "\n",
    "print(hottest_and_coldest_n_of_a_city(\"Rome\", 3))"
   ]
  },
  {
   "cell_type": "markdown",
   "id": "c468f318-f7c3-453e-941a-f5e9a02c7a46",
   "metadata": {},
   "source": [
    "#### Exercise 2.4\n",
    "(*) Let’s search for other anomalies in data distribution with the help of matplotlib. Plot the distribution of the average land temperatures for Rome and Bangkok using the aforementioned histogram plotting function.\n",
    "\n",
    "As you can see, Rome and Bangkok have very different temperature distributions, but this seems plausible. What it looks strange is the large difference in their temperatures’ magnitude. Is it possible that all sensors from Bangkok stations, along the entire time-span, were faulty? Could they were configured to use another representation of the temperature measurement? Can you figure out a data cleaning step to solve it?"
   ]
  },
  {
   "cell_type": "code",
   "execution_count": 13,
   "id": "d2171b3f-8734-4641-9dac-791d887b726b",
   "metadata": {},
   "outputs": [
    {
     "data": {
      "text/plain": [
       "(171503, 173854)"
      ]
     },
     "execution_count": 13,
     "metadata": {},
     "output_type": "execute_result"
    }
   ],
   "source": [
    "city_a_start, city_a_end = extract_index_of_a_city(\"Rome\")\n",
    "temps_a = dataset[1][city_a_start:city_a_end]\n",
    "dates_a = []\n",
    "for i in range(city_a_start, city_a_end):\n",
    "    dates_a.append(dataset[0][i])\n",
    "city_a_start, city_a_end"
   ]
  },
  {
   "cell_type": "code",
   "execution_count": 14,
   "id": "c396fb84-b9ec-434d-9e72-afac0411d972",
   "metadata": {},
   "outputs": [
    {
     "data": {
      "text/plain": [
       "(18012, 20363)"
      ]
     },
     "execution_count": 14,
     "metadata": {},
     "output_type": "execute_result"
    }
   ],
   "source": [
    "city_b_start, city_b_end = extract_index_of_a_city(\"Bangkok\")\n",
    "temps_b = dataset[1][city_b_start:city_b_end]\n",
    "dates_b = []\n",
    "for i in range(city_b_start, city_b_end):\n",
    "    dates_b.append(dataset[0][i])\n",
    "city_b_start, city_b_end"
   ]
  },
  {
   "cell_type": "code",
   "execution_count": 15,
   "id": "6d96502f-a024-4829-9867-e7878e6c9aec",
   "metadata": {},
   "outputs": [
    {
     "data": {
      "image/png": "[encoded data removed]",
      "text/plain": [
       "<Figure size 640x480 with 1 Axes>"
      ]
     },
     "metadata": {},
     "output_type": "display_data"
    }
   ],
   "source": [
    "import matplotlib.pyplot as plt\n",
    "%matplotlib inline\n",
    "plt.plot(dates_a, temps_a ,label=\"Rome\")\n",
    "plt.plot(dates_a, temps_b ,label=\"Bangkok\")\n",
    "# plt.yticks(temps_a)\n",
    "plt.legend()\n",
    "plt.show()"
   ]
  },
  {
   "cell_type": "code",
   "execution_count": 16,
   "id": "8d681351-28c9-47f5-9995-5481e7cbcb81",
   "metadata": {},
   "outputs": [],
   "source": [
    "## fahrenheit??"
   ]
  }
 ],
 "metadata": {
  "kernelspec": {
   "display_name": "Python 3.11 venv",
   "language": "python",
   "name": "venv"
  },
  "language_info": {
   "codemirror_mode": {
    "name": "ipython",
    "version": 3
   },
   "file_extension": ".py",
   "mimetype": "text/x-python",
   "name": "python",
   "nbconvert_exporter": "python",
   "pygments_lexer": "ipython3",
   "version": "3.11.6"
  }
 },
 "nbformat": 4,
 "nbformat_minor": 5
}
