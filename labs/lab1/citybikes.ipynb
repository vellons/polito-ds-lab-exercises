{
 "cells": [
  {
   "cell_type": "markdown",
   "id": "2ec855fe-8c5d-4368-8b7d-a7f5c37a80e3",
   "metadata": {},
   "source": [
    "# Lab1 exercises 2"
   ]
  },
  {
   "cell_type": "markdown",
   "id": "47727101-6446-4869-ae41-42b8d06fedb3",
   "metadata": {},
   "source": [
    "### Citybik.es dataset"
   ]
  },
  {
   "cell_type": "markdown",
   "id": "d89d720a-61b9-46b6-a45f-5adc0bb2050c",
   "metadata": {},
   "source": [
    "#### Exercise 2.1\n",
    "Load the previously downloaded Citybik.es dataset as a Python dictionary. You can make use of the json module presented. You can find the full documentation for the json module here. After the dictionary is loaded, explore its contents from an interactive shell."
   ]
  },
  {
   "cell_type": "code",
   "execution_count": 1,
   "id": "5b05f6c3-7993-4cbd-9a96-a88abc538baf",
   "metadata": {},
   "outputs": [],
   "source": [
    "!test -e bikes.json || wget \"http://api.citybik.es/v2/networks/to-bike\" -O bikes.json"
   ]
  },
  {
   "cell_type": "code",
   "execution_count": 2,
   "id": "ccaf695f-dfd4-4200-a75e-c81f6a11afde",
   "metadata": {},
   "outputs": [],
   "source": [
    "import json\n",
    "with open(\"bikes.json\") as f:\n",
    "    dataset = json.load(f)"
   ]
  },
  {
   "cell_type": "code",
   "execution_count": 3,
   "id": "93c814c4-9072-423f-8d55-ef919617adb1",
   "metadata": {},
   "outputs": [
    {
     "data": {
      "text/plain": [
       "dict_keys(['network'])"
      ]
     },
     "execution_count": 3,
     "metadata": {},
     "output_type": "execute_result"
    }
   ],
   "source": [
    "dataset.keys()"
   ]
  },
  {
   "cell_type": "code",
   "execution_count": 4,
   "id": "74642a12-028a-4063-a0e7-a07c6bbd1af7",
   "metadata": {},
   "outputs": [
    {
     "data": {
      "text/plain": [
       "dict_keys(['company', 'href', 'id', 'location', 'name', 'source', 'stations'])"
      ]
     },
     "execution_count": 4,
     "metadata": {},
     "output_type": "execute_result"
    }
   ],
   "source": [
    "dataset.get(\"network\").keys()"
   ]
  },
  {
   "cell_type": "markdown",
   "id": "be8be6e7-5b8c-4b76-9999-dd06209d3798",
   "metadata": {},
   "source": [
    "#### Exercise 2.2\n",
    "Count and print the number of active stations  (a station is active if its extra.status field is \"online\")."
   ]
  },
  {
   "cell_type": "code",
   "execution_count": 5,
   "id": "8c311358-b8fe-4979-8d7c-341cec75153d",
   "metadata": {},
   "outputs": [
    {
     "name": "stdout",
     "output_type": "stream",
     "text": [
      "station 01. Concordia active online\n",
      "station 02. Pettiti active online\n",
      "station 03. C. Commerciale I Portici active online\n",
      "station 05. Corso Garibaldi active online\n",
      "station 07. Buozzi active online\n",
      "station 08. San Marchese active online\n",
      "station 10. Gallo Praile active online\n",
      "station 02. BIKE POINT Mandria active online\n",
      "station 04. Reggia active online\n",
      "Number of active stations 9\n"
     ]
    }
   ],
   "source": [
    "active_stations = []\n",
    "for s in dataset.get(\"network\").get(\"stations\"):\n",
    "    if s.get(\"extra\").get(\"status\") == \"online\":\n",
    "        active_stations.append(s)\n",
    "\n",
    "for s in active_stations:    \n",
    "    print(f\"station {s.get('name')} active {s.get('extra').get('status')}\")\n",
    "\n",
    "print(f\"Number of active stations {len(active_stations)}\")"
   ]
  },
  {
   "cell_type": "markdown",
   "id": "0c4963e7-1c7a-4479-9aef-0ad233f7a567",
   "metadata": {},
   "source": [
    "#### Exercise 2.3\n",
    "Count and print the number of bikes available (field free_bikes) and the number if free docks (field empty_slots) throughout all stations."
   ]
  },
  {
   "cell_type": "code",
   "execution_count": 6,
   "id": "b63b63b8-82f0-451d-a290-aab1c4297baa",
   "metadata": {},
   "outputs": [
    {
     "name": "stdout",
     "output_type": "stream",
     "text": [
      "Bikes available 105\n",
      "Free docks 92\n",
      "free_bikes 105\n",
      "free_docks 92\n"
     ]
    }
   ],
   "source": [
    "free_bikes = 0\n",
    "free_docks = 0\n",
    "for s in dataset.get(\"network\").get(\"stations\"):\n",
    "    # print(f\"{s}\")\n",
    "    free_bikes = free_bikes + int(s.get(\"free_bikes\"))\n",
    "    free_docks = free_docks + int(s.get(\"empty_slots\"))\n",
    "\n",
    "bikes_avail = sum([ station[\"free_bikes\"] for station in dataset[\"network\"][\"stations\"]])\n",
    "free_docks = sum([ station[\"empty_slots\"] for station in dataset[\"network\"][\"stations\"]])\n",
    "print(\"Bikes available\", bikes_avail)\n",
    "print(\"Free docks\", free_docks)\n",
    "print(f\"free_bikes {free_bikes}\")\n",
    "print(f\"free_docks {free_docks}\")"
   ]
  },
  {
   "cell_type": "markdown",
   "id": "74667208-7f67-40b9-93c8-03297ab053c5",
   "metadata": {},
   "source": [
    "#### Exercise 2.4\n",
    "(*) Given the coordinates (latitude, longitude) of a point (e.g. 45.074512,7.694419), identify the closest bike station to it that has available bikes. For computing the distance among two points (given their coordinates), you can use the function distance_coords() defined in the code snippet below (which is an implementation of the great-circle distance):"
   ]
  },
  {
   "cell_type": "code",
   "execution_count": 7,
   "id": "742745a2-1516-4f90-9f63-ad6c131d02a3",
   "metadata": {},
   "outputs": [],
   "source": [
    "from math import cos, acos, sin\n",
    "def distance_coords(lat1, lng1, lat2, lng2):\n",
    "    \"\"\"Compute the distance among two points.\"\"\"\n",
    "    deg2rad = lambda x: x * 3.141592 / 180\n",
    "    lat1, lng1, lat2, lng2 = map(deg2rad, [ lat1, lng1, lat2, lng2 ])\n",
    "    R = 6378100 # Radius of the Earth, in meters\n",
    "    return R * acos(sin(lat1) * sin(lat2) + cos(lat1) * cos(lat2) * cos(lng1 - lng2))"
   ]
  },
  {
   "cell_type": "markdown",
   "id": "1c454128-9c01-4b71-bb64-6f05825d3e59",
   "metadata": {},
   "source": [
    "# TODO: finish!\n",
    "def find_nearest_available_station(lat, lng):\n",
    "    closest_station = None\n",
    "    closest_distance = float(\"inf\")\n",
    "    for s in dataset.get(\"network\").get(\"stations\"):\n",
    "        if s.get(\"free_bikes\") > 0 and (closest_station is None or )\n",
    "        print(distance_coords(\n",
    "            closest_station.get(\"latitude\"), \n",
    "            closest_station.get(\"longitude\"), \n",
    "            s.get(\"latitude\"), \n",
    "            s.get(\"longitude\")\n",
    "        ))"
   ]
  }
 ],
 "metadata": {
  "kernelspec": {
   "display_name": "venv",
   "language": "python",
   "name": "venv"
  },
  "language_info": {
   "codemirror_mode": {
    "name": "ipython",
    "version": 3
   },
   "file_extension": ".py",
   "mimetype": "text/x-python",
   "name": "python",
   "nbconvert_exporter": "python",
   "pygments_lexer": "ipython3",
   "version": "3.11.6"
  }
 },
 "nbformat": 4,
 "nbformat_minor": 5
}
