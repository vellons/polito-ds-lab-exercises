{
 "cells": [
  {
   "cell_type": "markdown",
   "id": "f1cabd3d-4c31-4797-a22d-bf143c04dc6e",
   "metadata": {},
   "source": [
    "# Lab1 exercises 3"
   ]
  },
  {
   "cell_type": "markdown",
   "id": "f83d7649-ca18-4b56-b875-f662a5250e29",
   "metadata": {},
   "source": [
    "### MNIST\n",
    "The MNIST dataset is another particularly famous dataset. It contains several thousands of hand-written digits (0 to 9). Each hand-written digit is contained in a 28 × 28 8-bit grayscale image. This means that each digit has 784 (28^2) pixels, and each pixel has a value that ranges from 0 (black) to 255 (white).\n",
    "\n",
    "For each digit, 785 values are available: the first one is the numerical value depicted in the image (e.g. for Figure 2 it would be 5). The following 784 columns represent the grayscale image in row-major order.\n",
    "\n",
    "The MNIST dataset in CSV format can be read with the same approach used for Iris, keeping in mind that, in this case, the digit label (i.e. the first column) is an integer from 0 to 9, while the following 784 values are integers between 0 and 255."
   ]
  },
  {
   "cell_type": "markdown",
   "id": "bf81d43d-3441-4a5b-a2f8-eca69055bc95",
   "metadata": {},
   "source": [
    "#### Preliminary steps"
   ]
  },
  {
   "cell_type": "code",
   "execution_count": 1,
   "id": "eb9020d7-c52a-438e-a436-25e907867142",
   "metadata": {},
   "outputs": [],
   "source": [
    "!test -e mnist_test.csv || wget https://raw.githubusercontent.com/dbdmg/data-science-lab/master/datasets/mnist_test.csv -O mnist_test.csv"
   ]
  },
  {
   "cell_type": "markdown",
   "id": "c7f56108-31d8-4203-81d5-a20014724261",
   "metadata": {},
   "source": [
    "#### Exercise 3.1\n",
    "Load the previously downloaded MNIST dataset. You can make use of the csv module already presented."
   ]
  },
  {
   "cell_type": "code",
   "execution_count": 2,
   "id": "c48483e6-cdb6-4da3-88af-bef08203761d",
   "metadata": {},
   "outputs": [
    {
     "name": "stdout",
     "output_type": "stream",
     "text": [
      "Loaded 10000 rows\n"
     ]
    }
   ],
   "source": [
    "import csv\n",
    "\n",
    "dataset = [ [], [] ]\n",
    "NUMBER_OF_COLS = 2\n",
    "NUMBER_OF_ROWS = 0\n",
    "MEASUREMENTS = [ \"value\", \"rapresentation\" ]\n",
    "with open(\"mnist_test.csv\") as f:\n",
    "    for row in csv.reader(f):\n",
    "        NUMBER_OF_ROWS = NUMBER_OF_ROWS + 1\n",
    "        dataset[0].append(int(row.pop(0)))  # Get first element of list and remove from it\n",
    "        dataset[1].append(list(map(int, row)))\n",
    "        \n",
    "print(f\"Loaded {NUMBER_OF_ROWS} rows\")"
   ]
  },
  {
   "cell_type": "code",
   "execution_count": 3,
   "id": "7fa0b458-4888-4540-b948-83b2cb8651a4",
   "metadata": {},
   "outputs": [
    {
     "name": "stdout",
     "output_type": "stream",
     "text": [
      "5 [0, 0, 0, 0, 0, 0, 0, 0, 0, 0, 0, 0, 0, 0, 0, 0, 0, 0, 0, 0, 0, 0, 0, 0, 0, 0, 0, 0, 0, 0, 0, 0, 0, 0, 0, 0, 0, 0, 0, 0, 0, 0, 0, 0, 0, 0, 0, 0, 0, 0, 0, 0, 0, 0, 0, 0, 0, 0, 0, 0, 0, 0, 0, 0, 0, 0, 0, 0, 0, 0, 0, 0, 0, 0, 0, 0, 0, 0, 0, 0, 0, 0, 0, 0, 0, 0, 0, 0, 0, 0, 0, 0, 0, 0, 0, 0, 0, 0, 0, 0, 0, 0, 0, 0, 0, 0, 0, 0, 0, 0, 0, 0, 0, 0, 0, 0, 0, 0, 0, 0, 0, 0, 0, 0, 0, 0, 0, 0, 0, 0, 0, 0, 0, 0, 0, 0, 0, 0, 0, 0, 0, 0, 0, 0, 0, 0, 0, 0, 0, 0, 0, 0, 0, 4, 114, 192, 18, 0, 0, 11, 43, 61, 148, 148, 49, 0, 0, 0, 0, 0, 0, 0, 0, 0, 0, 0, 0, 0, 0, 0, 29, 99, 252, 252, 120, 85, 137, 206, 252, 253, 252, 201, 21, 0, 0, 0, 0, 0, 0, 0, 0, 0, 0, 0, 0, 0, 0, 31, 213, 252, 252, 252, 245, 252, 252, 252, 244, 170, 91, 11, 0, 0, 0, 0, 0, 0, 0, 0, 0, 0, 0, 0, 0, 0, 27, 218, 252, 252, 252, 199, 190, 189, 136, 84, 49, 0, 0, 0, 0, 0, 0, 0, 0, 0, 0, 0, 0, 0, 0, 0, 0, 0, 194, 253, 182, 42, 42, 7, 0, 0, 0, 0, 0, 0, 0, 0, 0, 0, 0, 0, 0, 0, 0, 0, 0, 0, 0, 0, 4, 139, 253, 212, 27, 0, 0, 0, 0, 0, 0, 0, 0, 0, 0, 0, 0, 0, 0, 0, 0, 0, 0, 0, 0, 0, 0, 0, 22, 252, 252, 27, 0, 0, 0, 0, 0, 0, 0, 0, 0, 0, 0, 0, 0, 0, 0, 0, 0, 0, 0, 0, 0, 0, 0, 0, 75, 252, 208, 18, 0, 0, 0, 0, 0, 0, 0, 0, 0, 0, 0, 0, 0, 0, 0, 0, 0, 0, 0, 0, 0, 0, 0, 0, 57, 252, 252, 239, 133, 59, 0, 0, 0, 0, 0, 0, 0, 0, 0, 0, 0, 0, 0, 0, 0, 0, 0, 0, 0, 0, 0, 0, 4, 68, 235, 253, 252, 249, 211, 124, 0, 0, 0, 0, 0, 0, 0, 0, 0, 0, 0, 0, 0, 0, 0, 0, 0, 0, 0, 0, 0, 0, 0, 62, 141, 232, 253, 253, 175, 29, 0, 0, 0, 0, 0, 0, 0, 0, 0, 0, 0, 0, 0, 0, 0, 0, 0, 0, 0, 0, 0, 0, 0, 41, 168, 239, 253, 231, 130, 0, 0, 0, 0, 0, 0, 0, 0, 0, 0, 0, 0, 0, 0, 0, 0, 0, 0, 0, 0, 0, 0, 0, 0, 17, 200, 252, 233, 7, 0, 0, 0, 0, 0, 0, 0, 0, 0, 0, 0, 0, 0, 0, 0, 0, 0, 0, 0, 0, 0, 0, 0, 0, 104, 252, 247, 63, 0, 0, 0, 0, 0, 0, 0, 0, 0, 0, 0, 0, 0, 0, 0, 0, 0, 0, 0, 0, 0, 0, 0, 45, 192, 252, 231, 0, 0, 0, 0, 0, 0, 0, 0, 0, 0, 0, 0, 0, 0, 0, 0, 0, 0, 0, 0, 0, 0, 4, 69, 236, 255, 239, 62, 0, 0, 0, 0, 0, 0, 0, 0, 0, 0, 0, 0, 0, 0, 0, 0, 0, 116, 0, 0, 0, 29, 142, 252, 252, 204, 68, 0, 0, 0, 0, 0, 0, 0, 0, 0, 0, 0, 0, 0, 0, 0, 0, 0, 78, 240, 57, 66, 189, 239, 252, 252, 190, 53, 0, 0, 0, 0, 0, 0, 0, 0, 0, 0, 0, 0, 0, 0, 0, 0, 0, 0, 85, 252, 252, 252, 253, 252, 212, 84, 14, 0, 0, 0, 0, 0, 0, 0, 0, 0, 0, 0, 0, 0, 0, 0, 0, 0, 0, 0, 14, 147, 252, 252, 191, 112, 21, 0, 0, 0, 0, 0, 0, 0, 0, 0, 0, 0, 0, 0, 0, 0, 0, 0, 0, 0, 0, 0, 0, 0, 0, 0, 0, 0, 0, 0, 0, 0, 0, 0, 0, 0, 0, 0, 0, 0, 0, 0, 0, 0, 0, 0, 0, 0, 0, 0, 0, 0, 0, 0, 0, 0, 0, 0, 0, 0, 0, 0, 0, 0, 0, 0, 0, 0, 0, 0, 0, 0, 0, 0, 0, 0, 0, 0, 0, 0, 0, 0, 0, 0, 0, 0, 0, 0, 0, 0, 0, 0, 0, 0, 0, 0, 0, 0, 0]\n"
     ]
    }
   ],
   "source": [
    "idx = 129\n",
    "print(dataset[0][idx], dataset[1][idx])"
   ]
  },
  {
   "cell_type": "markdown",
   "id": "67023f32-70a2-496b-a4f1-573169894066",
   "metadata": {},
   "source": [
    "#### Exercise 3.2\n",
    "Create a function that, given a position 1 ≤ k ≤ 10, 000, prints the kth digit of the dataset (i.e. the kth row of the csv file) as a grid of 28 × 28 characters. More specifically, you should map each range\n",
    "of pixel values to the following characters:\n",
    "\n",
    "• [0,64)→\" \"\n",
    "\n",
    "• [64, 128) → \".\" \n",
    "\n",
    "• [128, 192) → \"*\" \n",
    "\n",
    "• [192, 256) → \"#\""
   ]
  },
  {
   "cell_type": "code",
   "execution_count": 4,
   "id": "eddf95c1-7d29-4ddd-a8ad-a25703735f2d",
   "metadata": {},
   "outputs": [],
   "source": [
    "def char_str_rapresentation(x):\n",
    "    if x < 64:\n",
    "        return \" \"\n",
    "    if x < 128:\n",
    "        return \".\"\n",
    "    if x < 192:\n",
    "        return \"*\"\n",
    "    return \"#\"\n",
    "    \n",
    "\n",
    "def mnist_console_print(kth):\n",
    "    for i in range(0, 28):\n",
    "        for j in range(0, 28):\n",
    "            print(char_str_rapresentation(dataset[1][kth-1][28*i+j]), end='')\n",
    "        print()\n",
    "    "
   ]
  },
  {
   "cell_type": "code",
   "execution_count": 5,
   "id": "e01178fd-25e3-43bd-80ef-0adbe87106a3",
   "metadata": {},
   "outputs": [
    {
     "name": "stdout",
     "output_type": "stream",
     "text": [
      "                            \n",
      "                            \n",
      "                            \n",
      "                            \n",
      "                            \n",
      "              .#      **    \n",
      "             .##..*#####    \n",
      "            #########*.     \n",
      "           #####***.        \n",
      "          ##*               \n",
      "         *##                \n",
      "         ##                 \n",
      "        .##                 \n",
      "         ###*               \n",
      "         .#####.            \n",
      "            *###*           \n",
      "              *###*         \n",
      "                ###         \n",
      "                .##         \n",
      "                ###         \n",
      "              .###          \n",
      "        .    *###.          \n",
      "       .# .*###*            \n",
      "       .######.             \n",
      "        *##*.               \n",
      "                            \n",
      "                            \n",
      "                            \n"
     ]
    }
   ],
   "source": [
    "mnist_console_print(130)"
   ]
  },
  {
   "cell_type": "markdown",
   "id": "a24e9de3-dc9b-4ec4-a2cc-993de7fef59f",
   "metadata": {},
   "source": [
    "#### Exercise 3.3\n",
    "Compute the Euclidean distance between each pair of the 784-dimensional vectors of the digits at the following positions: 26th, 30th, 32nd, 35th.\n",
    "\n",
    "For this exercise, we need to compute the Euclidean distance between all possible pairs that can be obtained from a list of 4 digits.\n",
    "We can compute the Euclidean distance between any pair of n-dimensional vectors with the following function."
   ]
  },
  {
   "cell_type": "code",
   "execution_count": 6,
   "id": "07d36dc9-8bc9-45d8-826d-ae1476424880",
   "metadata": {},
   "outputs": [],
   "source": [
    "def euclidean_distance(x, y):\n",
    "    return sum([ (x_i - y_i) ** 2 for x_i, y_i in zip(x, y) ]) ** 0.5"
   ]
  },
  {
   "cell_type": "code",
   "execution_count": 7,
   "id": "1f4a5866-2ef0-416f-9ca6-a23dd081fa38",
   "metadata": {},
   "outputs": [
    {
     "name": "stdout",
     "output_type": "stream",
     "text": [
      "25 29 3539.223219860539\n",
      "25 31 3556.4199695761467\n",
      "25 34 3223.2069434027967\n",
      "29 31 1171.8293391104355\n",
      "29 34 2531.0033583541526\n",
      "31 34 2515.5599774205343\n"
     ]
    }
   ],
   "source": [
    "positions = [ 25, 29, 31, 34 ]\n",
    "for i in range(len(positions)):\n",
    "    for j in range(i+1, len(positions)):\n",
    "        a = positions[i]\n",
    "        b = positions[j]\n",
    "        print(a, b, euclidean_distance(dataset[1][a], dataset[1][b]))"
   ]
  },
  {
   "cell_type": "markdown",
   "id": "dc25446f-afac-49ef-868f-ee814239a2ba",
   "metadata": {},
   "source": [
    "#### Exercise 3.4\n",
    "(*) Based on the distances computed in the previous step and knowing that the digits listed in Exercise 3 are (not necessarily in this order) 7, 0, 1, 1, can you assign the correct label to each of the digits of Exercise 3?\n"
   ]
  },
  {
   "cell_type": "markdown",
   "id": "7365d5c8-bb2f-4b1c-bea9-d1729056f1c8",
   "metadata": {},
   "source": [
    "29 -> 1\n",
    "\n",
    "31 -> 1\n",
    "\n",
    "34 -> 7\n",
    "\n",
    "25 -> 0"
   ]
  }
 ],
 "metadata": {
  "kernelspec": {
   "display_name": "Python 3.11 venv",
   "language": "python",
   "name": "venv"
  },
  "language_info": {
   "codemirror_mode": {
    "name": "ipython",
    "version": 3
   },
   "file_extension": ".py",
   "mimetype": "text/x-python",
   "name": "python",
   "nbconvert_exporter": "python",
   "pygments_lexer": "ipython3",
   "version": "3.11.6"
  }
 },
 "nbformat": 4,
 "nbformat_minor": 5
}
